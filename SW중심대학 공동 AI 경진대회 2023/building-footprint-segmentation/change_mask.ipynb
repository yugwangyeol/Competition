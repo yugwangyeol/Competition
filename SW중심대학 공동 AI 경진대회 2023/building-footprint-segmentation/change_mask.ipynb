{
 "cells": [
  {
   "attachments": {},
   "cell_type": "markdown",
   "metadata": {},
   "source": [
    "## Change Mask"
   ]
  },
  {
   "cell_type": "code",
   "execution_count": 1,
   "metadata": {},
   "outputs": [],
   "source": [
    "import os\n",
    "from natsort import natsorted\n",
    "import cv2\n",
    "\n",
    "train_label = natsorted(os.listdir('data/train/labels/'))\n",
    "val_label = natsorted(os.listdir('data/val/labels/'))\n",
    "test_label = natsorted(os.listdir('data/test/labels/'))"
   ]
  },
  {
   "cell_type": "code",
   "execution_count": 2,
   "metadata": {},
   "outputs": [],
   "source": [
    "new_train_path = './data/train/new_labels/'\n",
    "new_val_path = './data/val/new_labels/'\n",
    "new_test_path = './data/test/new_labels/'"
   ]
  },
  {
   "cell_type": "code",
   "execution_count": 3,
   "metadata": {},
   "outputs": [],
   "source": [
    "for i in train_label:\n",
    "    temp = cv2.imread('./data/train/labels/' + i, cv2.IMREAD_GRAYSCALE)\n",
    "    cv2.imwrite(new_train_path + i, temp)"
   ]
  },
  {
   "cell_type": "code",
   "execution_count": 13,
   "metadata": {},
   "outputs": [],
   "source": [
    "for i in val_label:\n",
    "    temp = cv2.imread('./data/val/labels/' + i, cv2.IMREAD_GRAYSCALE)\n",
    "    cv2.imwrite(new_val_path + i, temp)"
   ]
  },
  {
   "cell_type": "code",
   "execution_count": 14,
   "metadata": {},
   "outputs": [],
   "source": [
    "for i in test_label:\n",
    "    temp = cv2.imread('./data/test/labels/' + i, cv2.IMREAD_GRAYSCALE)\n",
    "    cv2.imwrite(new_test_path + i, temp)"
   ]
  }
 ],
 "metadata": {
  "kernelspec": {
   "display_name": "base",
   "language": "python",
   "name": "python3"
  },
  "language_info": {
   "codemirror_mode": {
    "name": "ipython",
    "version": 3
   },
   "file_extension": ".py",
   "mimetype": "text/x-python",
   "name": "python",
   "nbconvert_exporter": "python",
   "pygments_lexer": "ipython3",
   "version": "3.8.15"
  },
  "orig_nbformat": 4
 },
 "nbformat": 4,
 "nbformat_minor": 2
}
