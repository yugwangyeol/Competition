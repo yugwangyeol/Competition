{
 "cells": [
  {
   "cell_type": "code",
   "execution_count": 1,
   "metadata": {},
   "outputs": [],
   "source": [
    "import os\n",
    "import sys\n",
    "import json\n",
    "import albumentations as A\n",
    "\n",
    "module_path = os.path.abspath(os.path.join('../'))\n",
    "if module_path not in sys.path:\n",
    "    sys.path.append(module_path)\n",
    "    \n",
    "from building_footprint_segmentation.segmentation import init_segmentation, read_trainer_config\n",
    "from building_footprint_segmentation.helpers.callbacks import CallbackList, load_callback\n",
    "from building_footprint_segmentation.trainer import Trainer"
   ]
  },
  {
   "attachments": {},
   "cell_type": "markdown",
   "metadata": {},
   "source": [
    "### Initalize type of segmentation to run for building footprint"
   ]
  },
  {
   "cell_type": "code",
   "execution_count": 2,
   "metadata": {},
   "outputs": [],
   "source": [
    "segmentation = init_segmentation(\"binary\")"
   ]
  },
  {
   "attachments": {},
   "cell_type": "markdown",
   "metadata": {},
   "source": [
    "### Defining augmenters to use"
   ]
  },
  {
   "cell_type": "code",
   "execution_count": 3,
   "metadata": {},
   "outputs": [
    {
     "name": "stderr",
     "output_type": "stream",
     "text": [
      "c:\\Users\\pc\\anaconda3\\envs\\SW\\Lib\\site-packages\\albumentations\\augmentations\\transforms.py:1258: FutureWarning: This class has been deprecated. Please use RandomBrightnessContrast\n",
      "  warnings.warn(\n",
      "c:\\Users\\pc\\anaconda3\\envs\\SW\\Lib\\site-packages\\albumentations\\augmentations\\transforms.py:1284: FutureWarning: RandomContrast has been deprecated. Please use RandomBrightnessContrast\n",
      "  warnings.warn(\n"
     ]
    }
   ],
   "source": [
    "augmenters = A.Compose([\n",
    "    A.HorizontalFlip(p=0.5),\n",
    "    A.RandomBrightnessContrast(p=0.2),\n",
    "    \n",
    "    # 추가\n",
    "    A.ShiftScaleRotate(scale_limit=0.5, rotate_limit=0, shift_limit=0.1, p=0.5, border_mode=0),\n",
    "    \n",
    "    A.PadIfNeeded(min_height=128, min_width=128, always_apply=True, border_mode=0),\n",
    "    A.RandomCrop(height=128, width=128, always_apply=True),\n",
    "\n",
    "    A.OneOf(\n",
    "    [\n",
    "        A.CLAHE(p=1),\n",
    "        A.RandomBrightness(p=1),\n",
    "        A.RandomGamma(p=1),\n",
    "    ],\n",
    "    p=0.8,\n",
    "    ),\n",
    "    \n",
    "    A.OneOf(\n",
    "        [\n",
    "            A.Blur(blur_limit=3, p=1),\n",
    "            A.MotionBlur(blur_limit=3, p=1),\n",
    "        ],\n",
    "        p=0.8,\n",
    "    ),\n",
    "    \n",
    "    A.OneOf(\n",
    "        [\n",
    "            A.RandomContrast(p=1),\n",
    "            A.HueSaturationValue(p=1),\n",
    "        ],\n",
    "        p=0.8,\n",
    "    ),\n",
    "    A.Resize(256, 256),\n",
    "])"
   ]
  },
  {
   "attachments": {},
   "cell_type": "markdown",
   "metadata": {},
   "source": [
    "### Load essential segmentation objects for training"
   ]
  },
  {
   "cell_type": "code",
   "execution_count": 4,
   "metadata": {},
   "outputs": [
    {
     "name": "stderr",
     "output_type": "stream",
     "text": [
      "c:\\Users\\pc\\anaconda3\\envs\\SW\\Lib\\site-packages\\torchvision\\models\\_utils.py:208: UserWarning: The parameter 'pretrained' is deprecated since 0.13 and may be removed in the future, please use 'weights' instead.\n",
      "  warnings.warn(\n",
      "c:\\Users\\pc\\anaconda3\\envs\\SW\\Lib\\site-packages\\torchvision\\models\\_utils.py:223: UserWarning: Arguments other than a weight enum or `None` for 'weights' are deprecated since 0.13 and may be removed in the future. The current behavior is equivalent to passing `weights=ResNet50_Weights.IMAGENET1K_V1`. You can also use `weights=ResNet50_Weights.DEFAULT` to get the most up-to-date weights.\n",
      "  warnings.warn(msg)\n"
     ]
    }
   ],
   "source": [
    "model = segmentation.load_model(name=\"ReFineNet\")\n",
    "criterion = segmentation.load_criterion(name=\"Dice\",dice_weight=0.7)\n"
   ]
  },
  {
   "cell_type": "code",
   "execution_count": 5,
   "metadata": {},
   "outputs": [],
   "source": [
    "loader = segmentation.load_loader(\n",
    "    root_folder=r\"Data_original\",\n",
    "    image_normalization=\"divide_by_255\",\n",
    "    label_normalization=\"binary_label\",\n",
    "    augmenters=augmenters,\n",
    "    batch_size=8,\n",
    ")\n"
   ]
  },
  {
   "cell_type": "code",
   "execution_count": 6,
   "metadata": {},
   "outputs": [],
   "source": [
    "metrics = segmentation.load_metrics(\n",
    "    data_metrics=[\"precision\", \"f1\", \"recall\", \"iou\", \"dice\"]\n",
    ")\n",
    "\n",
    "# optimizer = segmentation.load_optimizer(model, name=\"Adam\")\n",
    "optimizer = segmentation.load_optimizer(model, name=\"SGD\",lr=0.05)\n",
    "\n",
    "callbacks = CallbackList()\n",
    "# Ouptut from all the callbacks caller will be stored at the path specified in log_dir\n",
    "for caller in  [\"TrainChkCallback\", \"TimeCallback\", \"TensorBoardCallback\", \"TrainStateCallback\"]:\n",
    "    callbacks.append(load_callback(r\"out_data\", caller))"
   ]
  },
  {
   "attachments": {},
   "cell_type": "markdown",
   "metadata": {},
   "source": [
    "### Initalize the Trainer object\n"
   ]
  },
  {
   "cell_type": "code",
   "execution_count": 7,
   "metadata": {},
   "outputs": [],
   "source": [
    "trainer = Trainer(\n",
    "    model=model,\n",
    "    criterion=criterion,\n",
    "    loader=loader,\n",
    "    metrics=metrics,\n",
    "    callbacks=callbacks,\n",
    "    optimizer=optimizer,\n",
    "    scheduler=None,\n",
    ")"
   ]
  },
  {
   "attachments": {},
   "cell_type": "markdown",
   "metadata": {},
   "source": [
    "### Start training\n"
   ]
  },
  {
   "cell_type": "code",
   "execution_count": 8,
   "metadata": {},
   "outputs": [
    {
     "name": "stderr",
     "output_type": "stream",
     "text": [
      "Epoch 0, lr 0.05: 100%|██████████| 7072/7072 [08:24<00:00, 14.02it/s, loss=0.40497]\n"
     ]
    },
    {
     "name": "stdout",
     "output_type": "stream",
     "text": [
      "\u001b[1;37m>>\u001b[KPy-OneLiner : \u001b[36mLoss\u001b[0m : \u001b[30mtrain: 0.4049731016159058, validation: 0.5039321035146713\u001b[0m\n",
      "\u001b[1;37m>>\u001b[KPy-OneLiner : \u001b[36mTrain Metric\u001b[0m : \u001b[30mprecision : 0.40211, f1 : 0.36254, recall : 0.41975, iou : 0.24057, dice : 0.36254\u001b[0m\n",
      "\u001b[1;37m>>\u001b[KPy-OneLiner : \u001b[36mValid Metric\u001b[0m : \u001b[30mprecision : 0.72567, f1 : 0.40238, recall : 0.28090, iou : 0.25529, dice : 0.40238\u001b[0m"
     ]
    },
    {
     "name": "stderr",
     "output_type": "stream",
     "text": [
      "Epoch 1, lr 0.05: 100%|██████████| 7072/7072 [07:30<00:00, 15.69it/s, loss=0.35681]\n"
     ]
    },
    {
     "name": "stdout",
     "output_type": "stream",
     "text": [
      "\u001b[1;37m>>\u001b[KPy-OneLiner : \u001b[36mLoss\u001b[0m : \u001b[30mtrain: 0.3568114930391312, validation: 0.36488907039165497\u001b[0m\n",
      "\u001b[1;37m>>\u001b[KPy-OneLiner : \u001b[36mTrain Metric\u001b[0m : \u001b[30mprecision : 0.59868, f1 : 0.56077, recall : 0.59032, iou : 0.40532, dice : 0.56077\u001b[0m\n",
      "\u001b[1;37m>>\u001b[KPy-OneLiner : \u001b[36mValid Metric\u001b[0m : \u001b[30mprecision : 0.58897, f1 : 0.58636, recall : 0.58916, iou : 0.41719, dice : 0.58636\u001b[0m"
     ]
    },
    {
     "name": "stderr",
     "output_type": "stream",
     "text": [
      "Epoch 2, lr 0.05: 100%|██████████| 7072/7072 [07:15<00:00, 16.23it/s, loss=0.32542]\n"
     ]
    },
    {
     "name": "stdout",
     "output_type": "stream",
     "text": [
      "\u001b[1;37m>>\u001b[KPy-OneLiner : \u001b[36mLoss\u001b[0m : \u001b[30mtrain: 0.3254243759810925, validation: 0.39999282732605934\u001b[0m\n",
      "\u001b[1;37m>>\u001b[KPy-OneLiner : \u001b[36mTrain Metric\u001b[0m : \u001b[30mprecision : 0.64311, f1 : 0.60544, recall : 0.61967, iou : 0.45077, dice : 0.60544\u001b[0m\n",
      "\u001b[1;37m>>\u001b[KPy-OneLiner : \u001b[36mValid Metric\u001b[0m : \u001b[30mprecision : 0.77979, f1 : 0.53772, recall : 0.41837, iou : 0.37447, dice : 0.53772\u001b[0m"
     ]
    },
    {
     "name": "stderr",
     "output_type": "stream",
     "text": [
      "Epoch 3, lr 0.05: 100%|██████████| 7072/7072 [07:13<00:00, 16.32it/s, loss=0.31752]\n"
     ]
    },
    {
     "name": "stdout",
     "output_type": "stream",
     "text": [
      "\u001b[1;37m>>\u001b[KPy-OneLiner : \u001b[36mLoss\u001b[0m : \u001b[30mtrain: 0.31752293594181535, validation: 0.3630403093993664\u001b[0m\n",
      "\u001b[1;37m>>\u001b[KPy-OneLiner : \u001b[36mTrain Metric\u001b[0m : \u001b[30mprecision : 0.64717, f1 : 0.61237, recall : 0.62915, iou : 0.45828, dice : 0.61237\u001b[0m\n",
      "\u001b[1;37m>>\u001b[KPy-OneLiner : \u001b[36mValid Metric\u001b[0m : \u001b[30mprecision : 0.57272, f1 : 0.58985, recall : 0.61470, iou : 0.42014, dice : 0.58985\u001b[0m"
     ]
    },
    {
     "name": "stderr",
     "output_type": "stream",
     "text": [
      "Epoch 4, lr 0.05: 100%|██████████| 7072/7072 [07:13<00:00, 16.31it/s, loss=0.30191]\n"
     ]
    },
    {
     "name": "stdout",
     "output_type": "stream",
     "text": [
      "\u001b[1;37m>>\u001b[KPy-OneLiner : \u001b[36mLoss\u001b[0m : \u001b[30mtrain: 0.3019065149128437, validation: 0.35839690640568733\u001b[0m\n",
      "\u001b[1;37m>>\u001b[KPy-OneLiner : \u001b[36mTrain Metric\u001b[0m : \u001b[30mprecision : 0.66353, f1 : 0.63067, recall : 0.64459, iou : 0.47854, dice : 0.63067\u001b[0m\n",
      "\u001b[1;37m>>\u001b[KPy-OneLiner : \u001b[36mValid Metric\u001b[0m : \u001b[30mprecision : 0.70879, f1 : 0.59284, recall : 0.52176, iou : 0.42634, dice : 0.59284\u001b[0m"
     ]
    },
    {
     "name": "stderr",
     "output_type": "stream",
     "text": [
      "Epoch 5, lr 0.05: 100%|██████████| 7072/7072 [07:15<00:00, 16.23it/s, loss=0.32115]\n"
     ]
    },
    {
     "name": "stdout",
     "output_type": "stream",
     "text": [
      "\u001b[1;37m>>\u001b[KPy-OneLiner : \u001b[36mLoss\u001b[0m : \u001b[30mtrain: 0.3211524908989668, validation: 0.33135026320815086\u001b[0m\n",
      "\u001b[1;37m>>\u001b[KPy-OneLiner : \u001b[36mTrain Metric\u001b[0m : \u001b[30mprecision : 0.66488, f1 : 0.63537, recall : 0.65275, iou : 0.48254, dice : 0.63537\u001b[0m\n",
      "\u001b[1;37m>>\u001b[KPy-OneLiner : \u001b[36mValid Metric\u001b[0m : \u001b[30mprecision : 0.57821, f1 : 0.63208, recall : 0.69975, iou : 0.46382, dice : 0.63208\u001b[0m"
     ]
    },
    {
     "name": "stderr",
     "output_type": "stream",
     "text": [
      "Epoch 6, lr 0.05: 100%|██████████| 7072/7072 [07:16<00:00, 16.22it/s, loss=0.30387]\n"
     ]
    },
    {
     "name": "stdout",
     "output_type": "stream",
     "text": [
      "\u001b[1;37m>>\u001b[KPy-OneLiner : \u001b[36mLoss\u001b[0m : \u001b[30mtrain: 0.30387416906654835, validation: 0.3660052716732025\u001b[0m\n",
      "\u001b[1;37m>>\u001b[KPy-OneLiner : \u001b[36mTrain Metric\u001b[0m : \u001b[30mprecision : 0.68684, f1 : 0.64830, recall : 0.65968, iou : 0.49825, dice : 0.64830\u001b[0m\n",
      "\u001b[1;37m>>\u001b[KPy-OneLiner : \u001b[36mValid Metric\u001b[0m : \u001b[30mprecision : 0.75923, f1 : 0.57835, recall : 0.47433, iou : 0.41175, dice : 0.57835\u001b[0m"
     ]
    },
    {
     "name": "stderr",
     "output_type": "stream",
     "text": [
      "Epoch 7, lr 0.05: 100%|██████████| 7072/7072 [07:16<00:00, 16.20it/s, loss=0.28767]\n"
     ]
    },
    {
     "name": "stdout",
     "output_type": "stream",
     "text": [
      "\u001b[1;37m>>\u001b[KPy-OneLiner : \u001b[36mLoss\u001b[0m : \u001b[30mtrain: 0.2876710519194603, validation: 0.32085340842604637\u001b[0m\n",
      "\u001b[1;37m>>\u001b[KPy-OneLiner : \u001b[36mTrain Metric\u001b[0m : \u001b[30mprecision : 0.70001, f1 : 0.66245, recall : 0.66368, iou : 0.51345, dice : 0.66245\u001b[0m\n",
      "\u001b[1;37m>>\u001b[KPy-OneLiner : \u001b[36mValid Metric\u001b[0m : \u001b[30mprecision : 0.74341, f1 : 0.63172, recall : 0.55444, iou : 0.46503, dice : 0.63172\u001b[0m"
     ]
    },
    {
     "name": "stderr",
     "output_type": "stream",
     "text": [
      "Epoch 8, lr 0.05: 100%|██████████| 7072/7072 [07:27<00:00, 15.80it/s, loss=0.28400]\n"
     ]
    },
    {
     "name": "stdout",
     "output_type": "stream",
     "text": [
      "\u001b[1;37m>>\u001b[KPy-OneLiner : \u001b[36mLoss\u001b[0m : \u001b[30mtrain: 0.2839961294829845, validation: 0.3117503561079502\u001b[0m\n",
      "\u001b[1;37m>>\u001b[KPy-OneLiner : \u001b[36mTrain Metric\u001b[0m : \u001b[30mprecision : 0.69902, f1 : 0.66538, recall : 0.67195, iou : 0.51876, dice : 0.66538\u001b[0m\n",
      "\u001b[1;37m>>\u001b[KPy-OneLiner : \u001b[36mValid Metric\u001b[0m : \u001b[30mprecision : 0.64265, f1 : 0.65392, recall : 0.66894, iou : 0.48685, dice : 0.65392\u001b[0m"
     ]
    },
    {
     "name": "stderr",
     "output_type": "stream",
     "text": [
      "Epoch 9, lr 0.05: 100%|██████████| 7072/7072 [07:36<00:00, 15.50it/s, loss=0.27624]\n"
     ]
    },
    {
     "name": "stdout",
     "output_type": "stream",
     "text": [
      "\u001b[1;37m>>\u001b[KPy-OneLiner : \u001b[36mLoss\u001b[0m : \u001b[30mtrain: 0.276242423504591, validation: 0.28090017661452293\u001b[0m\n",
      "\u001b[1;37m>>\u001b[KPy-OneLiner : \u001b[36mTrain Metric\u001b[0m : \u001b[30mprecision : 0.69802, f1 : 0.66356, recall : 0.67242, iou : 0.51600, dice : 0.66356\u001b[0m\n",
      "\u001b[1;37m>>\u001b[KPy-OneLiner : \u001b[36mValid Metric\u001b[0m : \u001b[30mprecision : 0.72300, f1 : 0.68443, recall : 0.65102, iou : 0.52192, dice : 0.68443\u001b[0m"
     ]
    },
    {
     "name": "stderr",
     "output_type": "stream",
     "text": [
      "Epoch 10, lr 0.05: 100%|██████████| 7072/7072 [07:36<00:00, 15.49it/s, loss=0.29113]\n"
     ]
    },
    {
     "name": "stdout",
     "output_type": "stream",
     "text": [
      "\u001b[1;37m>>\u001b[KPy-OneLiner : \u001b[36mLoss\u001b[0m : \u001b[30mtrain: 0.2911349068582058, validation: 0.3335084021091461\u001b[0m\n",
      "\u001b[1;37m>>\u001b[KPy-OneLiner : \u001b[36mTrain Metric\u001b[0m : \u001b[30mprecision : 0.70366, f1 : 0.66942, recall : 0.67608, iou : 0.52223, dice : 0.66942\u001b[0m\n",
      "\u001b[1;37m>>\u001b[KPy-OneLiner : \u001b[36mValid Metric\u001b[0m : \u001b[30mprecision : 0.70134, f1 : 0.62682, recall : 0.56839, iou : 0.45970, dice : 0.62682\u001b[0m"
     ]
    },
    {
     "name": "stderr",
     "output_type": "stream",
     "text": [
      "Epoch 11, lr 0.05: 100%|██████████| 7072/7072 [07:35<00:00, 15.52it/s, loss=0.26249]\n"
     ]
    },
    {
     "name": "stdout",
     "output_type": "stream",
     "text": [
      "\u001b[1;37m>>\u001b[KPy-OneLiner : \u001b[36mLoss\u001b[0m : \u001b[30mtrain: 0.2624940051883459, validation: 0.3067605681717396\u001b[0m\n",
      "\u001b[1;37m>>\u001b[KPy-OneLiner : \u001b[36mTrain Metric\u001b[0m : \u001b[30mprecision : 0.69392, f1 : 0.65988, recall : 0.66718, iou : 0.50992, dice : 0.65988\u001b[0m\n",
      "\u001b[1;37m>>\u001b[KPy-OneLiner : \u001b[36mValid Metric\u001b[0m : \u001b[30mprecision : 0.63200, f1 : 0.65622, recall : 0.69095, iou : 0.49130, dice : 0.65622\u001b[0m"
     ]
    },
    {
     "name": "stderr",
     "output_type": "stream",
     "text": [
      "Epoch 12, lr 0.05: 100%|██████████| 7072/7072 [07:38<00:00, 15.44it/s, loss=0.27295]\n"
     ]
    },
    {
     "name": "stdout",
     "output_type": "stream",
     "text": [
      "\u001b[1;37m>>\u001b[KPy-OneLiner : \u001b[36mLoss\u001b[0m : \u001b[30mtrain: 0.27295252453535795, validation: 0.2975117191672325\u001b[0m\n",
      "\u001b[1;37m>>\u001b[KPy-OneLiner : \u001b[36mTrain Metric\u001b[0m : \u001b[30mprecision : 0.70755, f1 : 0.67948, recall : 0.69002, iou : 0.53243, dice : 0.67948\u001b[0m\n",
      "\u001b[1;37m>>\u001b[KPy-OneLiner : \u001b[36mValid Metric\u001b[0m : \u001b[30mprecision : 0.68559, f1 : 0.66346, recall : 0.64638, iou : 0.49995, dice : 0.66346\u001b[0m"
     ]
    },
    {
     "name": "stderr",
     "output_type": "stream",
     "text": [
      "Epoch 13, lr 0.05: 100%|██████████| 7072/7072 [07:37<00:00, 15.45it/s, loss=0.25664]\n"
     ]
    },
    {
     "name": "stdout",
     "output_type": "stream",
     "text": [
      "\u001b[1;37m>>\u001b[KPy-OneLiner : \u001b[36mLoss\u001b[0m : \u001b[30mtrain: 0.2566440171003342, validation: 0.3327412120997906\u001b[0m\n",
      "\u001b[1;37m>>\u001b[KPy-OneLiner : \u001b[36mTrain Metric\u001b[0m : \u001b[30mprecision : 0.72059, f1 : 0.68044, recall : 0.68768, iou : 0.53469, dice : 0.68044\u001b[0m\n",
      "\u001b[1;37m>>\u001b[KPy-OneLiner : \u001b[36mValid Metric\u001b[0m : \u001b[30mprecision : 0.66017, f1 : 0.62180, recall : 0.59922, iou : 0.45325, dice : 0.62180\u001b[0m"
     ]
    },
    {
     "name": "stderr",
     "output_type": "stream",
     "text": [
      "Epoch 14, lr 0.05: 100%|██████████| 7072/7072 [07:41<00:00, 15.33it/s, loss=0.27354]\n"
     ]
    },
    {
     "name": "stdout",
     "output_type": "stream",
     "text": [
      "\u001b[1;37m>>\u001b[KPy-OneLiner : \u001b[36mLoss\u001b[0m : \u001b[30mtrain: 0.27353714413940905, validation: 0.311935655772686\u001b[0m\n",
      "\u001b[1;37m>>\u001b[KPy-OneLiner : \u001b[36mTrain Metric\u001b[0m : \u001b[30mprecision : 0.70695, f1 : 0.67399, recall : 0.68021, iou : 0.52830, dice : 0.67399\u001b[0m\n",
      "\u001b[1;37m>>\u001b[KPy-OneLiner : \u001b[36mValid Metric\u001b[0m : \u001b[30mprecision : 0.72843, f1 : 0.64597, recall : 0.58406, iou : 0.47842, dice : 0.64597\u001b[0m"
     ]
    },
    {
     "name": "stderr",
     "output_type": "stream",
     "text": [
      "Epoch 15, lr 0.05: 100%|██████████| 7072/7072 [08:11<00:00, 14.39it/s, loss=0.27193]\n"
     ]
    },
    {
     "name": "stdout",
     "output_type": "stream",
     "text": [
      "\u001b[1;37m>>\u001b[KPy-OneLiner : \u001b[36mLoss\u001b[0m : \u001b[30mtrain: 0.27192583434283735, validation: 0.274985009804368\u001b[0m\n",
      "\u001b[1;37m>>\u001b[KPy-OneLiner : \u001b[36mTrain Metric\u001b[0m : \u001b[30mprecision : 0.72522, f1 : 0.69326, recall : 0.69719, iou : 0.54662, dice : 0.69326\u001b[0m\n",
      "\u001b[1;37m>>\u001b[KPy-OneLiner : \u001b[36mValid Metric\u001b[0m : \u001b[30mprecision : 0.73102, f1 : 0.69039, recall : 0.65729, iou : 0.52931, dice : 0.69039\u001b[0m"
     ]
    },
    {
     "name": "stderr",
     "output_type": "stream",
     "text": [
      "Epoch 16, lr 0.05: 100%|██████████| 7072/7072 [08:12<00:00, 14.36it/s, loss=0.26831]\n"
     ]
    },
    {
     "name": "stdout",
     "output_type": "stream",
     "text": [
      "\u001b[1;37m>>\u001b[KPy-OneLiner : \u001b[36mLoss\u001b[0m : \u001b[30mtrain: 0.2683069872111082, validation: 0.30387217551469803\u001b[0m\n",
      "\u001b[1;37m>>\u001b[KPy-OneLiner : \u001b[36mTrain Metric\u001b[0m : \u001b[30mprecision : 0.72780, f1 : 0.69809, recall : 0.70302, iou : 0.55414, dice : 0.69809\u001b[0m\n",
      "\u001b[1;37m>>\u001b[KPy-OneLiner : \u001b[36mValid Metric\u001b[0m : \u001b[30mprecision : 0.62776, f1 : 0.66129, recall : 0.70320, iou : 0.49575, dice : 0.66129\u001b[0m"
     ]
    },
    {
     "name": "stderr",
     "output_type": "stream",
     "text": [
      "Epoch 17, lr 0.05: 100%|██████████| 7072/7072 [08:11<00:00, 14.38it/s, loss=0.26125]\n"
     ]
    },
    {
     "name": "stdout",
     "output_type": "stream",
     "text": [
      "\u001b[1;37m>>\u001b[KPy-OneLiner : \u001b[36mLoss\u001b[0m : \u001b[30mtrain: 0.2612511027604342, validation: 0.3011109195649624\u001b[0m\n",
      "\u001b[1;37m>>\u001b[KPy-OneLiner : \u001b[36mTrain Metric\u001b[0m : \u001b[30mprecision : 0.72345, f1 : 0.68616, recall : 0.68384, iou : 0.53995, dice : 0.68616\u001b[0m\n",
      "\u001b[1;37m>>\u001b[KPy-OneLiner : \u001b[36mValid Metric\u001b[0m : \u001b[30mprecision : 0.61049, f1 : 0.66873, recall : 0.74282, iou : 0.50418, dice : 0.66873\u001b[0m"
     ]
    },
    {
     "name": "stderr",
     "output_type": "stream",
     "text": [
      "Epoch 18, lr 0.05: 100%|██████████| 7072/7072 [08:12<00:00, 14.35it/s, loss=0.28205]\n"
     ]
    },
    {
     "name": "stdout",
     "output_type": "stream",
     "text": [
      "\u001b[1;37m>>\u001b[KPy-OneLiner : \u001b[36mLoss\u001b[0m : \u001b[30mtrain: 0.2820492511987686, validation: 0.26602355018258095\u001b[0m\n",
      "\u001b[1;37m>>\u001b[KPy-OneLiner : \u001b[36mTrain Metric\u001b[0m : \u001b[30mprecision : 0.72702, f1 : 0.69172, recall : 0.68959, iou : 0.54763, dice : 0.69172\u001b[0m\n",
      "\u001b[1;37m>>\u001b[KPy-OneLiner : \u001b[36mValid Metric\u001b[0m : \u001b[30mprecision : 0.68469, f1 : 0.70218, recall : 0.72193, iou : 0.54219, dice : 0.70218\u001b[0m"
     ]
    },
    {
     "name": "stderr",
     "output_type": "stream",
     "text": [
      "Epoch 19, lr 0.05: 100%|██████████| 7072/7072 [08:12<00:00, 14.35it/s, loss=0.25062]\n"
     ]
    },
    {
     "name": "stdout",
     "output_type": "stream",
     "text": [
      "\u001b[1;37m>>\u001b[KPy-OneLiner : \u001b[36mLoss\u001b[0m : \u001b[30mtrain: 0.2506164670735598, validation: 0.25965198688209057\u001b[0m\n",
      "\u001b[1;37m>>\u001b[KPy-OneLiner : \u001b[36mTrain Metric\u001b[0m : \u001b[30mprecision : 0.73088, f1 : 0.70363, recall : 0.70644, iou : 0.55846, dice : 0.70363\u001b[0m\n",
      "\u001b[1;37m>>\u001b[KPy-OneLiner : \u001b[36mValid Metric\u001b[0m : \u001b[30mprecision : 0.66847, f1 : 0.71098, recall : 0.75994, iou : 0.55399, dice : 0.71098\u001b[0m"
     ]
    },
    {
     "name": "stderr",
     "output_type": "stream",
     "text": [
      "Epoch 20, lr 0.05: 100%|██████████| 7072/7072 [08:12<00:00, 14.35it/s, loss=0.24729]\n"
     ]
    },
    {
     "name": "stdout",
     "output_type": "stream",
     "text": [
      "\u001b[1;37m>>\u001b[KPy-OneLiner : \u001b[36mLoss\u001b[0m : \u001b[30mtrain: 0.24728947337716817, validation: 0.29622384905815125\u001b[0m\n",
      "\u001b[1;37m>>\u001b[KPy-OneLiner : \u001b[36mTrain Metric\u001b[0m : \u001b[30mprecision : 0.72488, f1 : 0.69904, recall : 0.70705, iou : 0.55659, dice : 0.69904\u001b[0m\n",
      "\u001b[1;37m>>\u001b[KPy-OneLiner : \u001b[36mValid Metric\u001b[0m : \u001b[30mprecision : 0.67596, f1 : 0.66836, recall : 0.66409, iou : 0.50519, dice : 0.66836\u001b[0m"
     ]
    },
    {
     "name": "stderr",
     "output_type": "stream",
     "text": [
      "Epoch 21, lr 0.05: 100%|██████████| 7072/7072 [08:12<00:00, 14.36it/s, loss=0.23836]\n"
     ]
    },
    {
     "name": "stdout",
     "output_type": "stream",
     "text": [
      "\u001b[1;37m>>\u001b[KPy-OneLiner : \u001b[36mLoss\u001b[0m : \u001b[30mtrain: 0.238362093269825, validation: 0.269571915268898\u001b[0m\n",
      "\u001b[1;37m>>\u001b[KPy-OneLiner : \u001b[36mTrain Metric\u001b[0m : \u001b[30mprecision : 0.72592, f1 : 0.69289, recall : 0.69617, iou : 0.54786, dice : 0.69289\u001b[0m\n",
      "\u001b[1;37m>>\u001b[KPy-OneLiner : \u001b[36mValid Metric\u001b[0m : \u001b[30mprecision : 0.70278, f1 : 0.69706, recall : 0.69407, iou : 0.53693, dice : 0.69706\u001b[0m"
     ]
    },
    {
     "name": "stderr",
     "output_type": "stream",
     "text": [
      "Epoch 22, lr 0.05: 100%|██████████| 7072/7072 [08:13<00:00, 14.33it/s, loss=0.23157]\n"
     ]
    },
    {
     "name": "stdout",
     "output_type": "stream",
     "text": [
      "\u001b[1;37m>>\u001b[KPy-OneLiner : \u001b[36mLoss\u001b[0m : \u001b[30mtrain: 0.2315660760551691, validation: 0.25718178041279316\u001b[0m\n",
      "\u001b[1;37m>>\u001b[KPy-OneLiner : \u001b[36mTrain Metric\u001b[0m : \u001b[30mprecision : 0.73705, f1 : 0.70863, recall : 0.71389, iou : 0.56652, dice : 0.70863\u001b[0m\n",
      "\u001b[1;37m>>\u001b[KPy-OneLiner : \u001b[36mValid Metric\u001b[0m : \u001b[30mprecision : 0.73664, f1 : 0.70923, recall : 0.68681, iou : 0.55114, dice : 0.70923\u001b[0m"
     ]
    },
    {
     "name": "stderr",
     "output_type": "stream",
     "text": [
      "Epoch 23, lr 0.05: 100%|██████████| 7072/7072 [08:12<00:00, 14.35it/s, loss=0.25359]\n"
     ]
    },
    {
     "name": "stdout",
     "output_type": "stream",
     "text": [
      "\u001b[1;37m>>\u001b[KPy-OneLiner : \u001b[36mLoss\u001b[0m : \u001b[30mtrain: 0.2535875091701746, validation: 0.27446628734469414\u001b[0m\n",
      "\u001b[1;37m>>\u001b[KPy-OneLiner : \u001b[36mTrain Metric\u001b[0m : \u001b[30mprecision : 0.74667, f1 : 0.71646, recall : 0.71662, iou : 0.57478, dice : 0.71646\u001b[0m\n",
      "\u001b[1;37m>>\u001b[KPy-OneLiner : \u001b[36mValid Metric\u001b[0m : \u001b[30mprecision : 0.67217, f1 : 0.69040, recall : 0.71378, iou : 0.52864, dice : 0.69040\u001b[0m"
     ]
    },
    {
     "name": "stderr",
     "output_type": "stream",
     "text": [
      "Epoch 24, lr 0.05: 100%|██████████| 7072/7072 [08:13<00:00, 14.34it/s, loss=0.24205]\n"
     ]
    },
    {
     "name": "stdout",
     "output_type": "stream",
     "text": [
      "\u001b[1;37m>>\u001b[KPy-OneLiner : \u001b[36mLoss\u001b[0m : \u001b[30mtrain: 0.24205172911286355, validation: 0.26272190175950527\u001b[0m\n",
      "\u001b[1;37m>>\u001b[KPy-OneLiner : \u001b[36mTrain Metric\u001b[0m : \u001b[30mprecision : 0.73374, f1 : 0.70501, recall : 0.70581, iou : 0.56105, dice : 0.70501\u001b[0m\n",
      "\u001b[1;37m>>\u001b[KPy-OneLiner : \u001b[36mValid Metric\u001b[0m : \u001b[30mprecision : 0.69180, f1 : 0.70554, recall : 0.72244, iou : 0.54863, dice : 0.70554\u001b[0m"
     ]
    },
    {
     "name": "stderr",
     "output_type": "stream",
     "text": [
      "Epoch 25, lr 0.05: 100%|██████████| 7072/7072 [08:11<00:00, 14.39it/s, loss=0.24914]\n"
     ]
    },
    {
     "name": "stdout",
     "output_type": "stream",
     "text": [
      "\u001b[1;37m>>\u001b[KPy-OneLiner : \u001b[36mLoss\u001b[0m : \u001b[30mtrain: 0.24913519464433193, validation: 0.276788629591465\u001b[0m\n",
      "\u001b[1;37m>>\u001b[KPy-OneLiner : \u001b[36mTrain Metric\u001b[0m : \u001b[30mprecision : 0.72459, f1 : 0.69562, recall : 0.70153, iou : 0.55209, dice : 0.69562\u001b[0m\n",
      "\u001b[1;37m>>\u001b[KPy-OneLiner : \u001b[36mValid Metric\u001b[0m : \u001b[30mprecision : 0.73050, f1 : 0.68559, recall : 0.64848, iou : 0.52536, dice : 0.68559\u001b[0m"
     ]
    },
    {
     "name": "stderr",
     "output_type": "stream",
     "text": [
      "Epoch 26, lr 0.05: 100%|██████████| 7072/7072 [08:12<00:00, 14.35it/s, loss=0.30823]\n"
     ]
    },
    {
     "name": "stdout",
     "output_type": "stream",
     "text": [
      "\u001b[1;37m>>\u001b[KPy-OneLiner : \u001b[36mLoss\u001b[0m : \u001b[30mtrain: 0.3082254324108362, validation: 0.32106110267341137\u001b[0m\n",
      "\u001b[1;37m>>\u001b[KPy-OneLiner : \u001b[36mTrain Metric\u001b[0m : \u001b[30mprecision : 0.72729, f1 : 0.69783, recall : 0.70328, iou : 0.55401, dice : 0.69783\u001b[0m\n",
      "\u001b[1;37m>>\u001b[KPy-OneLiner : \u001b[36mValid Metric\u001b[0m : \u001b[30mprecision : 0.80987, f1 : 0.63314, recall : 0.52298, iou : 0.46869, dice : 0.63314\u001b[0m"
     ]
    },
    {
     "name": "stderr",
     "output_type": "stream",
     "text": [
      "Epoch 27, lr 0.05: 100%|██████████| 7072/7072 [08:12<00:00, 14.36it/s, loss=0.23895]\n"
     ]
    },
    {
     "name": "stdout",
     "output_type": "stream",
     "text": [
      "\u001b[1;37m>>\u001b[KPy-OneLiner : \u001b[36mLoss\u001b[0m : \u001b[30mtrain: 0.23895117573440075, validation: 0.24720591120421886\u001b[0m\n",
      "\u001b[1;37m>>\u001b[KPy-OneLiner : \u001b[36mTrain Metric\u001b[0m : \u001b[30mprecision : 0.73496, f1 : 0.70626, recall : 0.71303, iou : 0.56243, dice : 0.70626\u001b[0m\n",
      "\u001b[1;37m>>\u001b[KPy-OneLiner : \u001b[36mValid Metric\u001b[0m : \u001b[30mprecision : 0.71109, f1 : 0.72353, recall : 0.73825, iou : 0.56869, dice : 0.72353\u001b[0m"
     ]
    },
    {
     "name": "stderr",
     "output_type": "stream",
     "text": [
      "Epoch 28, lr 0.05: 100%|██████████| 7072/7072 [08:13<00:00, 14.33it/s, loss=0.23279]\n"
     ]
    },
    {
     "name": "stdout",
     "output_type": "stream",
     "text": [
      "\u001b[1;37m>>\u001b[KPy-OneLiner : \u001b[36mLoss\u001b[0m : \u001b[30mtrain: 0.2327885462343693, validation: 0.25909375213086605\u001b[0m\n",
      "\u001b[1;37m>>\u001b[KPy-OneLiner : \u001b[36mTrain Metric\u001b[0m : \u001b[30mprecision : 0.73388, f1 : 0.70475, recall : 0.70822, iou : 0.56176, dice : 0.70475\u001b[0m\n",
      "\u001b[1;37m>>\u001b[KPy-OneLiner : \u001b[36mValid Metric\u001b[0m : \u001b[30mprecision : 0.69400, f1 : 0.71016, recall : 0.72793, iou : 0.55145, dice : 0.71016\u001b[0m"
     ]
    },
    {
     "name": "stderr",
     "output_type": "stream",
     "text": [
      "Epoch 29, lr 0.05: 100%|██████████| 7072/7072 [08:12<00:00, 14.36it/s, loss=0.25823]\n"
     ]
    },
    {
     "name": "stdout",
     "output_type": "stream",
     "text": [
      "\u001b[1;37m>>\u001b[KPy-OneLiner : \u001b[36mLoss\u001b[0m : \u001b[30mtrain: 0.2582298865914345, validation: 0.2700811717659235\u001b[0m\n",
      "\u001b[1;37m>>\u001b[KPy-OneLiner : \u001b[36mTrain Metric\u001b[0m : \u001b[30mprecision : 0.73090, f1 : 0.70653, recall : 0.71734, iou : 0.56493, dice : 0.70653\u001b[0m\n",
      "\u001b[1;37m>>\u001b[KPy-OneLiner : \u001b[36mValid Metric\u001b[0m : \u001b[30mprecision : 0.65735, f1 : 0.69647, recall : 0.74101, iou : 0.53800, dice : 0.69647\u001b[0m"
     ]
    },
    {
     "name": "stderr",
     "output_type": "stream",
     "text": [
      "Epoch 30, lr 0.05: 100%|██████████| 7072/7072 [08:14<00:00, 14.31it/s, loss=0.23800]\n"
     ]
    },
    {
     "name": "stdout",
     "output_type": "stream",
     "text": [
      "\u001b[1;37m>>\u001b[KPy-OneLiner : \u001b[36mLoss\u001b[0m : \u001b[30mtrain: 0.23799943573772908, validation: 0.26507208310067654\u001b[0m\n",
      "\u001b[1;37m>>\u001b[KPy-OneLiner : \u001b[36mTrain Metric\u001b[0m : \u001b[30mprecision : 0.70414, f1 : 0.67488, recall : 0.68840, iou : 0.52987, dice : 0.67488\u001b[0m\n",
      "\u001b[1;37m>>\u001b[KPy-OneLiner : \u001b[36mValid Metric\u001b[0m : \u001b[30mprecision : 0.72794, f1 : 0.69958, recall : 0.67513, iou : 0.54105, dice : 0.69958\u001b[0m"
     ]
    },
    {
     "name": "stderr",
     "output_type": "stream",
     "text": [
      "Epoch 31, lr 0.05: 100%|██████████| 7072/7072 [08:13<00:00, 14.34it/s, loss=0.24727]\n"
     ]
    },
    {
     "name": "stdout",
     "output_type": "stream",
     "text": [
      "\u001b[1;37m>>\u001b[KPy-OneLiner : \u001b[36mLoss\u001b[0m : \u001b[30mtrain: 0.24727461002767087, validation: 0.3258664794266224\u001b[0m\n",
      "\u001b[1;37m>>\u001b[KPy-OneLiner : \u001b[36mTrain Metric\u001b[0m : \u001b[30mprecision : 0.74460, f1 : 0.71298, recall : 0.71214, iou : 0.56989, dice : 0.71298\u001b[0m\n",
      "\u001b[1;37m>>\u001b[KPy-OneLiner : \u001b[36mValid Metric\u001b[0m : \u001b[30mprecision : 0.56214, f1 : 0.64237, recall : 0.76008, iou : 0.47487, dice : 0.64237\u001b[0m"
     ]
    },
    {
     "name": "stderr",
     "output_type": "stream",
     "text": [
      "Epoch 32, lr 0.05: 100%|██████████| 7072/7072 [08:14<00:00, 14.30it/s, loss=0.24268]\n"
     ]
    },
    {
     "name": "stdout",
     "output_type": "stream",
     "text": [
      "\u001b[1;37m>>\u001b[KPy-OneLiner : \u001b[36mLoss\u001b[0m : \u001b[30mtrain: 0.2426792250573635, validation: 0.278061181306839\u001b[0m\n",
      "\u001b[1;37m>>\u001b[KPy-OneLiner : \u001b[36mTrain Metric\u001b[0m : \u001b[30mprecision : 0.73302, f1 : 0.69896, recall : 0.70256, iou : 0.55500, dice : 0.69896\u001b[0m\n",
      "\u001b[1;37m>>\u001b[KPy-OneLiner : \u001b[36mValid Metric\u001b[0m : \u001b[30mprecision : 0.74081, f1 : 0.68511, recall : 0.64208, iou : 0.52516, dice : 0.68511\u001b[0m"
     ]
    },
    {
     "name": "stderr",
     "output_type": "stream",
     "text": [
      "Epoch 33, lr 0.05: 100%|██████████| 7072/7072 [08:12<00:00, 14.35it/s, loss=0.26535]\n"
     ]
    },
    {
     "name": "stdout",
     "output_type": "stream",
     "text": [
      "\u001b[1;37m>>\u001b[KPy-OneLiner : \u001b[36mLoss\u001b[0m : \u001b[30mtrain: 0.2653474260121584, validation: 0.26456610299646854\u001b[0m\n",
      "\u001b[1;37m>>\u001b[KPy-OneLiner : \u001b[36mTrain Metric\u001b[0m : \u001b[30mprecision : 0.72973, f1 : 0.69924, recall : 0.70613, iou : 0.55571, dice : 0.69924\u001b[0m\n",
      "\u001b[1;37m>>\u001b[KPy-OneLiner : \u001b[36mValid Metric\u001b[0m : \u001b[30mprecision : 0.75173, f1 : 0.69983, recall : 0.65905, iou : 0.54106, dice : 0.69983\u001b[0m"
     ]
    },
    {
     "name": "stderr",
     "output_type": "stream",
     "text": [
      "Epoch 34, lr 0.05: 100%|██████████| 7072/7072 [08:14<00:00, 14.29it/s, loss=0.22707]\n"
     ]
    },
    {
     "name": "stdout",
     "output_type": "stream",
     "text": [
      "\u001b[1;37m>>\u001b[KPy-OneLiner : \u001b[36mLoss\u001b[0m : \u001b[30mtrain: 0.2270710651576519, validation: 0.25623474828898907\u001b[0m\n",
      "\u001b[1;37m>>\u001b[KPy-OneLiner : \u001b[36mTrain Metric\u001b[0m : \u001b[30mprecision : 0.74919, f1 : 0.71846, recall : 0.71653, iou : 0.57720, dice : 0.71846\u001b[0m\n",
      "\u001b[1;37m>>\u001b[KPy-OneLiner : \u001b[36mValid Metric\u001b[0m : \u001b[30mprecision : 0.70419, f1 : 0.71406, recall : 0.72569, iou : 0.55834, dice : 0.71406\u001b[0m"
     ]
    },
    {
     "name": "stderr",
     "output_type": "stream",
     "text": [
      "Epoch 35, lr 0.05: 100%|██████████| 7072/7072 [08:12<00:00, 14.37it/s, loss=0.27012]\n"
     ]
    },
    {
     "name": "stdout",
     "output_type": "stream",
     "text": [
      "\u001b[1;37m>>\u001b[KPy-OneLiner : \u001b[36mLoss\u001b[0m : \u001b[30mtrain: 0.27012361913919447, validation: 0.33310263976454735\u001b[0m\n",
      "\u001b[1;37m>>\u001b[KPy-OneLiner : \u001b[36mTrain Metric\u001b[0m : \u001b[30mprecision : 0.73679, f1 : 0.70607, recall : 0.70734, iou : 0.56357, dice : 0.70607\u001b[0m\n",
      "\u001b[1;37m>>\u001b[KPy-OneLiner : \u001b[36mValid Metric\u001b[0m : \u001b[30mprecision : 0.76597, f1 : 0.63088, recall : 0.54718, iou : 0.46966, dice : 0.63088\u001b[0m"
     ]
    },
    {
     "name": "stderr",
     "output_type": "stream",
     "text": [
      "Epoch 36, lr 0.05: 100%|██████████| 7072/7072 [08:16<00:00, 14.25it/s, loss=0.26308]\n"
     ]
    },
    {
     "name": "stdout",
     "output_type": "stream",
     "text": [
      "\u001b[1;37m>>\u001b[KPy-OneLiner : \u001b[36mLoss\u001b[0m : \u001b[30mtrain: 0.26308003570884464, validation: 0.259365888312459\u001b[0m\n",
      "\u001b[1;37m>>\u001b[KPy-OneLiner : \u001b[36mTrain Metric\u001b[0m : \u001b[30mprecision : 0.73271, f1 : 0.69772, recall : 0.70270, iou : 0.55518, dice : 0.69772\u001b[0m\n",
      "\u001b[1;37m>>\u001b[KPy-OneLiner : \u001b[36mValid Metric\u001b[0m : \u001b[30mprecision : 0.74388, f1 : 0.70372, recall : 0.67057, iou : 0.54520, dice : 0.70372\u001b[0m"
     ]
    },
    {
     "name": "stderr",
     "output_type": "stream",
     "text": [
      "Epoch 37, lr 0.05: 100%|██████████| 7072/7072 [08:12<00:00, 14.35it/s, loss=0.27967]\n"
     ]
    },
    {
     "name": "stdout",
     "output_type": "stream",
     "text": [
      "\u001b[1;37m>>\u001b[KPy-OneLiner : \u001b[36mLoss\u001b[0m : \u001b[30mtrain: 0.2796681546419859, validation: 0.2762426398694515\u001b[0m\n",
      "\u001b[1;37m>>\u001b[KPy-OneLiner : \u001b[36mTrain Metric\u001b[0m : \u001b[30mprecision : 0.73965, f1 : 0.70790, recall : 0.70934, iou : 0.56501, dice : 0.70790\u001b[0m\n",
      "\u001b[1;37m>>\u001b[KPy-OneLiner : \u001b[36mValid Metric\u001b[0m : \u001b[30mprecision : 0.63672, f1 : 0.69257, recall : 0.76219, iou : 0.53231, dice : 0.69257\u001b[0m"
     ]
    },
    {
     "name": "stderr",
     "output_type": "stream",
     "text": [
      "Epoch 38, lr 0.05: 100%|██████████| 7072/7072 [08:15<00:00, 14.26it/s, loss=0.24382]\n"
     ]
    },
    {
     "name": "stdout",
     "output_type": "stream",
     "text": [
      "\u001b[1;37m>>\u001b[KPy-OneLiner : \u001b[36mLoss\u001b[0m : \u001b[30mtrain: 0.24381982441991568, validation: 0.2518432829529047\u001b[0m\n",
      "\u001b[1;37m>>\u001b[KPy-OneLiner : \u001b[36mTrain Metric\u001b[0m : \u001b[30mprecision : 0.74097, f1 : 0.71174, recall : 0.71653, iou : 0.56876, dice : 0.71174\u001b[0m\n",
      "\u001b[1;37m>>\u001b[KPy-OneLiner : \u001b[36mValid Metric\u001b[0m : \u001b[30mprecision : 0.77461, f1 : 0.71589, recall : 0.66746, iou : 0.56058, dice : 0.71589\u001b[0m"
     ]
    },
    {
     "name": "stderr",
     "output_type": "stream",
     "text": [
      "Epoch 39, lr 0.05: 100%|██████████| 7072/7072 [08:13<00:00, 14.34it/s, loss=0.24788]\n"
     ]
    },
    {
     "name": "stdout",
     "output_type": "stream",
     "text": [
      "\u001b[1;37m>>\u001b[KPy-OneLiner : \u001b[36mLoss\u001b[0m : \u001b[30mtrain: 0.24788344271481036, validation: 0.2930251620709896\u001b[0m\n",
      "\u001b[1;37m>>\u001b[KPy-OneLiner : \u001b[36mTrain Metric\u001b[0m : \u001b[30mprecision : 0.74763, f1 : 0.71499, recall : 0.71312, iou : 0.57520, dice : 0.71499\u001b[0m\n",
      "\u001b[1;37m>>\u001b[KPy-OneLiner : \u001b[36mValid Metric\u001b[0m : \u001b[30mprecision : 0.62546, f1 : 0.67460, recall : 0.73846, iou : 0.51284, dice : 0.67460\u001b[0m"
     ]
    },
    {
     "name": "stderr",
     "output_type": "stream",
     "text": [
      "Epoch 40, lr 0.05: 100%|██████████| 7072/7072 [08:15<00:00, 14.27it/s, loss=0.24006]\n"
     ]
    },
    {
     "name": "stdout",
     "output_type": "stream",
     "text": [
      "\u001b[1;37m>>\u001b[KPy-OneLiner : \u001b[36mLoss\u001b[0m : \u001b[30mtrain: 0.24005642034113406, validation: 0.2724914327263832\u001b[0m\n",
      "\u001b[1;37m>>\u001b[KPy-OneLiner : \u001b[36mTrain Metric\u001b[0m : \u001b[30mprecision : 0.73661, f1 : 0.71351, recall : 0.72066, iou : 0.57482, dice : 0.71351\u001b[0m\n",
      "\u001b[1;37m>>\u001b[KPy-OneLiner : \u001b[36mValid Metric\u001b[0m : \u001b[30mprecision : 0.64023, f1 : 0.69816, recall : 0.76974, iou : 0.53907, dice : 0.69816\u001b[0m"
     ]
    },
    {
     "name": "stderr",
     "output_type": "stream",
     "text": [
      "Epoch 41, lr 0.05: 100%|██████████| 7072/7072 [08:12<00:00, 14.35it/s, loss=0.22500]\n"
     ]
    },
    {
     "name": "stdout",
     "output_type": "stream",
     "text": [
      "\u001b[1;37m>>\u001b[KPy-OneLiner : \u001b[36mLoss\u001b[0m : \u001b[30mtrain: 0.2249982613325119, validation: 0.24808443896472454\u001b[0m\n",
      "\u001b[1;37m>>\u001b[KPy-OneLiner : \u001b[36mTrain Metric\u001b[0m : \u001b[30mprecision : 0.75229, f1 : 0.72805, recall : 0.73377, iou : 0.58995, dice : 0.72805\u001b[0m\n",
      "\u001b[1;37m>>\u001b[KPy-OneLiner : \u001b[36mValid Metric\u001b[0m : \u001b[30mprecision : 0.73004, f1 : 0.72093, recall : 0.71497, iou : 0.56474, dice : 0.72093\u001b[0m"
     ]
    },
    {
     "name": "stderr",
     "output_type": "stream",
     "text": [
      "Epoch 42, lr 0.05: 100%|██████████| 7072/7072 [08:14<00:00, 14.29it/s, loss=0.24361]\n"
     ]
    },
    {
     "name": "stdout",
     "output_type": "stream",
     "text": [
      "\u001b[1;37m>>\u001b[KPy-OneLiner : \u001b[36mLoss\u001b[0m : \u001b[30mtrain: 0.2436100360006094, validation: 0.29323265329003334\u001b[0m\n",
      "\u001b[1;37m>>\u001b[KPy-OneLiner : \u001b[36mTrain Metric\u001b[0m : \u001b[30mprecision : 0.73585, f1 : 0.71046, recall : 0.71745, iou : 0.56931, dice : 0.71046\u001b[0m\n",
      "\u001b[1;37m>>\u001b[KPy-OneLiner : \u001b[36mValid Metric\u001b[0m : \u001b[30mprecision : 0.64823, f1 : 0.66862, recall : 0.69821, iou : 0.50572, dice : 0.66862\u001b[0m"
     ]
    },
    {
     "name": "stderr",
     "output_type": "stream",
     "text": [
      "Epoch 43, lr 0.05: 100%|██████████| 7072/7072 [07:55<00:00, 14.87it/s, loss=0.24691]\n"
     ]
    },
    {
     "name": "stdout",
     "output_type": "stream",
     "text": [
      "\u001b[1;37m>>\u001b[KPy-OneLiner : \u001b[36mLoss\u001b[0m : \u001b[30mtrain: 0.24691467836499215, validation: 0.24977344647049904\u001b[0m\n",
      "\u001b[1;37m>>\u001b[KPy-OneLiner : \u001b[36mTrain Metric\u001b[0m : \u001b[30mprecision : 0.74603, f1 : 0.72041, recall : 0.72836, iou : 0.58133, dice : 0.72041\u001b[0m\n",
      "\u001b[1;37m>>\u001b[KPy-OneLiner : \u001b[36mValid Metric\u001b[0m : \u001b[30mprecision : 0.75649, f1 : 0.71807, recall : 0.68660, iou : 0.56392, dice : 0.71807\u001b[0m"
     ]
    },
    {
     "name": "stderr",
     "output_type": "stream",
     "text": [
      "Epoch 44, lr 0.05: 100%|██████████| 7072/7072 [07:39<00:00, 15.38it/s, loss=0.23962]\n"
     ]
    },
    {
     "name": "stdout",
     "output_type": "stream",
     "text": [
      "\u001b[1;37m>>\u001b[KPy-OneLiner : \u001b[36mLoss\u001b[0m : \u001b[30mtrain: 0.23962220050394534, validation: 0.247048519551754\u001b[0m\n",
      "\u001b[1;37m>>\u001b[KPy-OneLiner : \u001b[36mTrain Metric\u001b[0m : \u001b[30mprecision : 0.74416, f1 : 0.72024, recall : 0.72708, iou : 0.58075, dice : 0.72024\u001b[0m\n",
      "\u001b[1;37m>>\u001b[KPy-OneLiner : \u001b[36mValid Metric\u001b[0m : \u001b[30mprecision : 0.66016, f1 : 0.72913, recall : 0.81687, iou : 0.57413, dice : 0.72913\u001b[0m"
     ]
    },
    {
     "name": "stderr",
     "output_type": "stream",
     "text": [
      "Epoch 45, lr 0.05: 100%|██████████| 7072/7072 [07:37<00:00, 15.46it/s, loss=0.24575]\n"
     ]
    },
    {
     "name": "stdout",
     "output_type": "stream",
     "text": [
      "\u001b[1;37m>>\u001b[KPy-OneLiner : \u001b[36mLoss\u001b[0m : \u001b[30mtrain: 0.24574660569429396, validation: 0.37139997631311417\u001b[0m\n",
      "\u001b[1;37m>>\u001b[KPy-OneLiner : \u001b[36mTrain Metric\u001b[0m : \u001b[30mprecision : 0.74599, f1 : 0.72016, recall : 0.72437, iou : 0.57938, dice : 0.72016\u001b[0m\n",
      "\u001b[1;37m>>\u001b[KPy-OneLiner : \u001b[36mValid Metric\u001b[0m : \u001b[30mprecision : 0.85587, f1 : 0.56900, recall : 0.42782, iou : 0.39894, dice : 0.56900\u001b[0m"
     ]
    },
    {
     "name": "stderr",
     "output_type": "stream",
     "text": [
      "Epoch 46, lr 0.05: 100%|██████████| 7072/7072 [07:38<00:00, 15.42it/s, loss=0.22098]\n"
     ]
    },
    {
     "name": "stdout",
     "output_type": "stream",
     "text": [
      "\u001b[1;37m>>\u001b[KPy-OneLiner : \u001b[36mLoss\u001b[0m : \u001b[30mtrain: 0.22098474465310575, validation: 0.29859355092048645\u001b[0m\n",
      "\u001b[1;37m>>\u001b[KPy-OneLiner : \u001b[36mTrain Metric\u001b[0m : \u001b[30mprecision : 0.75348, f1 : 0.71569, recall : 0.71453, iou : 0.57521, dice : 0.71569\u001b[0m\n",
      "\u001b[1;37m>>\u001b[KPy-OneLiner : \u001b[36mValid Metric\u001b[0m : \u001b[30mprecision : 0.61492, f1 : 0.67064, recall : 0.74311, iou : 0.50581, dice : 0.67064\u001b[0m"
     ]
    },
    {
     "name": "stderr",
     "output_type": "stream",
     "text": [
      "Epoch 47, lr 0.05: 100%|██████████| 7072/7072 [07:35<00:00, 15.51it/s, loss=0.23731]\n"
     ]
    },
    {
     "name": "stdout",
     "output_type": "stream",
     "text": [
      "\u001b[1;37m>>\u001b[KPy-OneLiner : \u001b[36mLoss\u001b[0m : \u001b[30mtrain: 0.2373099272698164, validation: 0.26702685467898846\u001b[0m\n",
      "\u001b[1;37m>>\u001b[KPy-OneLiner : \u001b[36mTrain Metric\u001b[0m : \u001b[30mprecision : 0.74128, f1 : 0.70991, recall : 0.71358, iou : 0.56789, dice : 0.70991\u001b[0m\n",
      "\u001b[1;37m>>\u001b[KPy-OneLiner : \u001b[36mValid Metric\u001b[0m : \u001b[30mprecision : 0.69444, f1 : 0.69985, recall : 0.70655, iou : 0.54064, dice : 0.69985\u001b[0m"
     ]
    },
    {
     "name": "stderr",
     "output_type": "stream",
     "text": [
      "Epoch 48, lr 0.05: 100%|██████████| 7072/7072 [07:34<00:00, 15.56it/s, loss=0.24689]\n"
     ]
    },
    {
     "name": "stdout",
     "output_type": "stream",
     "text": [
      "\u001b[1;37m>>\u001b[KPy-OneLiner : \u001b[36mLoss\u001b[0m : \u001b[30mtrain: 0.24689454451203346, validation: 0.28441336192190647\u001b[0m\n",
      "\u001b[1;37m>>\u001b[KPy-OneLiner : \u001b[36mTrain Metric\u001b[0m : \u001b[30mprecision : 0.74487, f1 : 0.70816, recall : 0.70730, iou : 0.56731, dice : 0.70816\u001b[0m\n",
      "\u001b[1;37m>>\u001b[KPy-OneLiner : \u001b[36mValid Metric\u001b[0m : \u001b[30mprecision : 0.64488, f1 : 0.67951, recall : 0.72351, iou : 0.51605, dice : 0.67951\u001b[0m"
     ]
    },
    {
     "name": "stderr",
     "output_type": "stream",
     "text": [
      "Epoch 49, lr 0.05: 100%|██████████| 7072/7072 [07:29<00:00, 15.74it/s, loss=0.24895]\n"
     ]
    },
    {
     "name": "stdout",
     "output_type": "stream",
     "text": [
      "\u001b[1;37m>>\u001b[KPy-OneLiner : \u001b[36mLoss\u001b[0m : \u001b[30mtrain: 0.24894782360643147, validation: 0.2334232423454523\u001b[0m\n",
      "\u001b[1;37m>>\u001b[KPy-OneLiner : \u001b[36mTrain Metric\u001b[0m : \u001b[30mprecision : 0.76165, f1 : 0.73094, recall : 0.73263, iou : 0.59514, dice : 0.73094\u001b[0m\n",
      "\u001b[1;37m>>\u001b[KPy-OneLiner : \u001b[36mValid Metric\u001b[0m : \u001b[30mprecision : 0.75833, f1 : 0.73673, recall : 0.71829, iou : 0.58585, dice : 0.73673\u001b[0m"
     ]
    },
    {
     "name": "stderr",
     "output_type": "stream",
     "text": [
      "Epoch 50, lr 0.05: 100%|██████████| 7072/7072 [07:30<00:00, 15.69it/s, loss=0.23567]\n"
     ]
    },
    {
     "name": "stdout",
     "output_type": "stream",
     "text": [
      "\u001b[1;37m>>\u001b[KPy-OneLiner : \u001b[36mLoss\u001b[0m : \u001b[30mtrain: 0.23566641122102738, validation: 0.248655142262578\u001b[0m\n",
      "\u001b[1;37m>>\u001b[KPy-OneLiner : \u001b[36mTrain Metric\u001b[0m : \u001b[30mprecision : 0.74913, f1 : 0.72100, recall : 0.72481, iou : 0.58123, dice : 0.72100\u001b[0m\n",
      "\u001b[1;37m>>\u001b[KPy-OneLiner : \u001b[36mValid Metric\u001b[0m : \u001b[30mprecision : 0.79339, f1 : 0.71693, recall : 0.65501, iou : 0.56005, dice : 0.71693\u001b[0m"
     ]
    },
    {
     "name": "stderr",
     "output_type": "stream",
     "text": [
      "Epoch 51, lr 0.05: 100%|██████████| 7072/7072 [07:28<00:00, 15.78it/s, loss=0.24407]\n"
     ]
    },
    {
     "name": "stdout",
     "output_type": "stream",
     "text": [
      "\u001b[1;37m>>\u001b[KPy-OneLiner : \u001b[36mLoss\u001b[0m : \u001b[30mtrain: 0.24407347790896894, validation: 0.2442149855196476\u001b[0m\n",
      "\u001b[1;37m>>\u001b[KPy-OneLiner : \u001b[36mTrain Metric\u001b[0m : \u001b[30mprecision : 0.75046, f1 : 0.72569, recall : 0.73083, iou : 0.58779, dice : 0.72569\u001b[0m\n",
      "\u001b[1;37m>>\u001b[KPy-OneLiner : \u001b[36mValid Metric\u001b[0m : \u001b[30mprecision : 0.74989, f1 : 0.72341, recall : 0.70011, iou : 0.56779, dice : 0.72341\u001b[0m"
     ]
    },
    {
     "name": "stderr",
     "output_type": "stream",
     "text": [
      "Epoch 52, lr 0.05: 100%|██████████| 7072/7072 [07:19<00:00, 16.08it/s, loss=0.22899]\n"
     ]
    },
    {
     "name": "stdout",
     "output_type": "stream",
     "text": [
      "\u001b[1;37m>>\u001b[KPy-OneLiner : \u001b[36mLoss\u001b[0m : \u001b[30mtrain: 0.2289910028129816, validation: 0.23326882161200047\u001b[0m\n",
      "\u001b[1;37m>>\u001b[KPy-OneLiner : \u001b[36mTrain Metric\u001b[0m : \u001b[30mprecision : 0.74767, f1 : 0.71711, recall : 0.71943, iou : 0.57825, dice : 0.71711\u001b[0m\n",
      "\u001b[1;37m>>\u001b[KPy-OneLiner : \u001b[36mValid Metric\u001b[0m : \u001b[30mprecision : 0.74851, f1 : 0.73972, recall : 0.73238, iou : 0.58931, dice : 0.73972\u001b[0m"
     ]
    },
    {
     "name": "stderr",
     "output_type": "stream",
     "text": [
      "Epoch 53, lr 0.05: 100%|██████████| 7072/7072 [07:12<00:00, 16.33it/s, loss=0.24857]\n"
     ]
    },
    {
     "name": "stdout",
     "output_type": "stream",
     "text": [
      "\u001b[1;37m>>\u001b[KPy-OneLiner : \u001b[36mLoss\u001b[0m : \u001b[30mtrain: 0.24857187010347842, validation: 0.24670874327421188\u001b[0m\n",
      "\u001b[1;37m>>\u001b[KPy-OneLiner : \u001b[36mTrain Metric\u001b[0m : \u001b[30mprecision : 0.74893, f1 : 0.71895, recall : 0.72342, iou : 0.58055, dice : 0.71895\u001b[0m\n",
      "\u001b[1;37m>>\u001b[KPy-OneLiner : \u001b[36mValid Metric\u001b[0m : \u001b[30mprecision : 0.69343, f1 : 0.72427, recall : 0.75889, iou : 0.57081, dice : 0.72427\u001b[0m"
     ]
    },
    {
     "name": "stderr",
     "output_type": "stream",
     "text": [
      "Epoch 54, lr 0.05: 100%|██████████| 7072/7072 [07:16<00:00, 16.19it/s, loss=0.22019]\n"
     ]
    },
    {
     "name": "stdout",
     "output_type": "stream",
     "text": [
      "\u001b[1;37m>>\u001b[KPy-OneLiner : \u001b[36mLoss\u001b[0m : \u001b[30mtrain: 0.22018774934113025, validation: 0.27095369808375835\u001b[0m\n",
      "\u001b[1;37m>>\u001b[KPy-OneLiner : \u001b[36mTrain Metric\u001b[0m : \u001b[30mprecision : 0.76327, f1 : 0.73029, recall : 0.72677, iou : 0.59245, dice : 0.73029\u001b[0m\n",
      "\u001b[1;37m>>\u001b[KPy-OneLiner : \u001b[36mValid Metric\u001b[0m : \u001b[30mprecision : 0.80125, f1 : 0.69144, recall : 0.61231, iou : 0.53458, dice : 0.69144\u001b[0m"
     ]
    },
    {
     "name": "stderr",
     "output_type": "stream",
     "text": [
      "Epoch 55, lr 0.05: 100%|██████████| 7072/7072 [07:24<00:00, 15.91it/s, loss=0.21919]\n"
     ]
    },
    {
     "name": "stdout",
     "output_type": "stream",
     "text": [
      "\u001b[1;37m>>\u001b[KPy-OneLiner : \u001b[36mLoss\u001b[0m : \u001b[30mtrain: 0.21918803349137306, validation: 0.2620655596256256\u001b[0m\n",
      "\u001b[1;37m>>\u001b[KPy-OneLiner : \u001b[36mTrain Metric\u001b[0m : \u001b[30mprecision : 0.75609, f1 : 0.73130, recall : 0.73640, iou : 0.59424, dice : 0.73130\u001b[0m\n",
      "\u001b[1;37m>>\u001b[KPy-OneLiner : \u001b[36mValid Metric\u001b[0m : \u001b[30mprecision : 0.68487, f1 : 0.71122, recall : 0.74133, iou : 0.55432, dice : 0.71122\u001b[0m"
     ]
    },
    {
     "name": "stderr",
     "output_type": "stream",
     "text": [
      "Epoch 56, lr 0.05: 100%|██████████| 7072/7072 [07:59<00:00, 14.75it/s, loss=0.23137]\n"
     ]
    },
    {
     "name": "stdout",
     "output_type": "stream",
     "text": [
      "\u001b[1;37m>>\u001b[KPy-OneLiner : \u001b[36mLoss\u001b[0m : \u001b[30mtrain: 0.23136588327586652, validation: 0.23979423008859158\u001b[0m\n",
      "\u001b[1;37m>>\u001b[KPy-OneLiner : \u001b[36mTrain Metric\u001b[0m : \u001b[30mprecision : 0.74159, f1 : 0.71646, recall : 0.72388, iou : 0.57659, dice : 0.71646\u001b[0m\n",
      "\u001b[1;37m>>\u001b[KPy-OneLiner : \u001b[36mValid Metric\u001b[0m : \u001b[30mprecision : 0.77427, f1 : 0.72738, recall : 0.68740, iou : 0.57465, dice : 0.72738\u001b[0m"
     ]
    },
    {
     "name": "stderr",
     "output_type": "stream",
     "text": [
      "Epoch 57, lr 0.05: 100%|██████████| 7072/7072 [08:00<00:00, 14.71it/s, loss=0.22731]\n"
     ]
    },
    {
     "name": "stdout",
     "output_type": "stream",
     "text": [
      "\u001b[1;37m>>\u001b[KPy-OneLiner : \u001b[36mLoss\u001b[0m : \u001b[30mtrain: 0.22730652086436748, validation: 0.3222399055957794\u001b[0m\n",
      "\u001b[1;37m>>\u001b[KPy-OneLiner : \u001b[36mTrain Metric\u001b[0m : \u001b[30mprecision : 0.76273, f1 : 0.73202, recall : 0.73241, iou : 0.59527, dice : 0.73202\u001b[0m\n",
      "\u001b[1;37m>>\u001b[KPy-OneLiner : \u001b[36mValid Metric\u001b[0m : \u001b[30mprecision : 0.56073, f1 : 0.64140, recall : 0.75247, iou : 0.47485, dice : 0.64140\u001b[0m"
     ]
    },
    {
     "name": "stderr",
     "output_type": "stream",
     "text": [
      "Epoch 58, lr 0.05: 100%|██████████| 7072/7072 [08:01<00:00, 14.70it/s, loss=0.22600]\n"
     ]
    },
    {
     "name": "stdout",
     "output_type": "stream",
     "text": [
      "\u001b[1;37m>>\u001b[KPy-OneLiner : \u001b[36mLoss\u001b[0m : \u001b[30mtrain: 0.2260033233463764, validation: 0.24285555817186832\u001b[0m\n",
      "\u001b[1;37m>>\u001b[KPy-OneLiner : \u001b[36mTrain Metric\u001b[0m : \u001b[30mprecision : 0.75812, f1 : 0.72957, recall : 0.73101, iou : 0.59099, dice : 0.72957\u001b[0m\n",
      "\u001b[1;37m>>\u001b[KPy-OneLiner : \u001b[36mValid Metric\u001b[0m : \u001b[30mprecision : 0.71326, f1 : 0.72729, recall : 0.74478, iou : 0.57303, dice : 0.72729\u001b[0m"
     ]
    },
    {
     "name": "stderr",
     "output_type": "stream",
     "text": [
      "Epoch 59, lr 0.05: 100%|██████████| 7072/7072 [26:37<00:00,  4.43it/s, loss=0.23669]\n"
     ]
    },
    {
     "name": "stdout",
     "output_type": "stream",
     "text": [
      "\u001b[1;37m>>\u001b[KPy-OneLiner : \u001b[36mLoss\u001b[0m : \u001b[30mtrain: 0.2366871153190732, validation: 0.24333238042891026\u001b[0m\n",
      "\u001b[1;37m>>\u001b[KPy-OneLiner : \u001b[36mTrain Metric\u001b[0m : \u001b[30mprecision : 0.73891, f1 : 0.71918, recall : 0.73341, iou : 0.58213, dice : 0.71918\u001b[0m\n",
      "\u001b[1;37m>>\u001b[KPy-OneLiner : \u001b[36mValid Metric\u001b[0m : \u001b[30mprecision : 0.72366, f1 : 0.72675, recall : 0.73254, iou : 0.57280, dice : 0.72675\u001b[0m"
     ]
    },
    {
     "name": "stderr",
     "output_type": "stream",
     "text": [
      "Epoch 60, lr 0.05: 100%|██████████| 7072/7072 [53:54<00:00,  2.19it/s, loss=0.25672]\n"
     ]
    },
    {
     "name": "stdout",
     "output_type": "stream",
     "text": [
      "\u001b[1;37m>>\u001b[KPy-OneLiner : \u001b[36mLoss\u001b[0m : \u001b[30mtrain: 0.25672309800982474, validation: 0.25373642705380917\u001b[0m\n",
      "\u001b[1;37m>>\u001b[KPy-OneLiner : \u001b[36mTrain Metric\u001b[0m : \u001b[30mprecision : 0.74933, f1 : 0.72241, recall : 0.72566, iou : 0.58347, dice : 0.72241\u001b[0m\n",
      "\u001b[1;37m>>\u001b[KPy-OneLiner : \u001b[36mValid Metric\u001b[0m : \u001b[30mprecision : 0.65537, f1 : 0.72230, recall : 0.80592, iou : 0.56594, dice : 0.72230\u001b[0m"
     ]
    },
    {
     "name": "stderr",
     "output_type": "stream",
     "text": [
      "Epoch 61, lr 0.05: 100%|██████████| 7072/7072 [1:10:42<00:00,  1.67it/s, loss=0.21332]\n"
     ]
    },
    {
     "name": "stdout",
     "output_type": "stream",
     "text": [
      "\u001b[1;37m>>\u001b[KPy-OneLiner : \u001b[36mLoss\u001b[0m : \u001b[30mtrain: 0.21332240138202907, validation: 0.2453623916953802\u001b[0m\n",
      "\u001b[1;37m>>\u001b[KPy-OneLiner : \u001b[36mTrain Metric\u001b[0m : \u001b[30mprecision : 0.75662, f1 : 0.73529, recall : 0.74012, iou : 0.59883, dice : 0.73529\u001b[0m\n",
      "\u001b[1;37m>>\u001b[KPy-OneLiner : \u001b[36mValid Metric\u001b[0m : \u001b[30mprecision : 0.69999, f1 : 0.72349, recall : 0.75153, iou : 0.56775, dice : 0.72349\u001b[0m"
     ]
    },
    {
     "name": "stderr",
     "output_type": "stream",
     "text": [
      "Epoch 62, lr 0.05: 100%|██████████| 7072/7072 [49:45<00:00,  2.37it/s, loss=0.22141]  \n"
     ]
    },
    {
     "name": "stdout",
     "output_type": "stream",
     "text": [
      "\u001b[1;37m>>\u001b[KPy-OneLiner : \u001b[36mLoss\u001b[0m : \u001b[30mtrain: 0.2214121201634407, validation: 0.22492514178156853\u001b[0m\n",
      "\u001b[1;37m>>\u001b[KPy-OneLiner : \u001b[36mTrain Metric\u001b[0m : \u001b[30mprecision : 0.76592, f1 : 0.73881, recall : 0.73818, iou : 0.60361, dice : 0.73881\u001b[0m\n",
      "\u001b[1;37m>>\u001b[KPy-OneLiner : \u001b[36mValid Metric\u001b[0m : \u001b[30mprecision : 0.76892, f1 : 0.74572, recall : 0.72471, iou : 0.59626, dice : 0.74572\u001b[0m"
     ]
    },
    {
     "name": "stderr",
     "output_type": "stream",
     "text": [
      "Epoch 63, lr 0.05: 100%|██████████| 7072/7072 [22:22<00:00,  5.27it/s, loss=0.24388]\n"
     ]
    },
    {
     "name": "stdout",
     "output_type": "stream",
     "text": [
      "\u001b[1;37m>>\u001b[KPy-OneLiner : \u001b[36mLoss\u001b[0m : \u001b[30mtrain: 0.24387747704982757, validation: 0.2640727497637272\u001b[0m\n",
      "\u001b[1;37m>>\u001b[KPy-OneLiner : \u001b[36mTrain Metric\u001b[0m : \u001b[30mprecision : 0.75500, f1 : 0.72948, recall : 0.73221, iou : 0.59381, dice : 0.72948\u001b[0m\n",
      "\u001b[1;37m>>\u001b[KPy-OneLiner : \u001b[36mValid Metric\u001b[0m : \u001b[30mprecision : 0.66841, f1 : 0.70738, recall : 0.75308, iou : 0.54856, dice : 0.70738\u001b[0m"
     ]
    },
    {
     "name": "stderr",
     "output_type": "stream",
     "text": [
      "Epoch 64, lr 0.05:   7%|▋         | 472/7072 [01:41<23:36,  4.66it/s, loss=0.22756]\n"
     ]
    },
    {
     "name": "stdout",
     "output_type": "stream",
     "text": [
      "\n",
      "\u001b[1;37m>>\u001b[KPy-OneLiner : \u001b[36mKeyBoard Interrupt\u001b[0m : \u001b[30mState Saved at epoch 64\u001b[0m\u001b[0m"
     ]
    },
    {
     "ename": "KeyboardInterrupt",
     "evalue": "",
     "output_type": "error",
     "traceback": [
      "\u001b[1;31m---------------------------------------------------------------------------\u001b[0m",
      "\u001b[1;31mKeyboardInterrupt\u001b[0m                         Traceback (most recent call last)",
      "File \u001b[1;32mc:\\Users\\pc\\Desktop\\KMU\\Project\\SW중심대학 공동 AI 경진대회 2023\\building-footprint-segmentation\\building-footprint-segmentation\\building_footprint_segmentation\\trainer.py:96\u001b[0m, in \u001b[0;36mTrainer.train\u001b[1;34m(self, start_epoch, end_epoch, step, bst_vld_loss)\u001b[0m\n\u001b[0;32m     94\u001b[0m     \u001b[39mself\u001b[39m\u001b[39m.\u001b[39mmodel\u001b[39m.\u001b[39mtrain()\n\u001b[1;32m---> 96\u001b[0m train_loss, train_metric, step, progress_bar \u001b[39m=\u001b[39m \u001b[39mself\u001b[39;49m\u001b[39m.\u001b[39;49mstate_train(\n\u001b[0;32m     97\u001b[0m     step, progress_bar\n\u001b[0;32m     98\u001b[0m )\n\u001b[0;32m     99\u001b[0m progress_bar\u001b[39m.\u001b[39mclose()\n",
      "File \u001b[1;32mc:\\Users\\pc\\Desktop\\KMU\\Project\\SW중심대학 공동 AI 경진대회 2023\\building-footprint-segmentation\\building-footprint-segmentation\\building_footprint_segmentation\\trainer.py:208\u001b[0m, in \u001b[0;36mTrainer.state_train\u001b[1;34m(self, step, progress_bar)\u001b[0m\n\u001b[0;32m    206\u001b[0m train_data \u001b[39m=\u001b[39m gpu_variable(train_data)\n\u001b[1;32m--> 208\u001b[0m prediction \u001b[39m=\u001b[39m \u001b[39mself\u001b[39;49m\u001b[39m.\u001b[39;49mmodel(train_data[\u001b[39m\"\u001b[39;49m\u001b[39mimages\u001b[39;49m\u001b[39m\"\u001b[39;49m])\n\u001b[0;32m    209\u001b[0m \u001b[39m#print(\"prediction\",prediction[0])\u001b[39;00m\n\u001b[0;32m    210\u001b[0m \u001b[39m#print(\"ground_truth\",(train_data[\"ground_truth\"]))\u001b[39;00m\n",
      "File \u001b[1;32mc:\\Users\\pc\\anaconda3\\envs\\SW\\Lib\\site-packages\\torch\\nn\\modules\\module.py:1501\u001b[0m, in \u001b[0;36mModule._call_impl\u001b[1;34m(self, *args, **kwargs)\u001b[0m\n\u001b[0;32m   1498\u001b[0m \u001b[39mif\u001b[39;00m \u001b[39mnot\u001b[39;00m (\u001b[39mself\u001b[39m\u001b[39m.\u001b[39m_backward_hooks \u001b[39mor\u001b[39;00m \u001b[39mself\u001b[39m\u001b[39m.\u001b[39m_backward_pre_hooks \u001b[39mor\u001b[39;00m \u001b[39mself\u001b[39m\u001b[39m.\u001b[39m_forward_hooks \u001b[39mor\u001b[39;00m \u001b[39mself\u001b[39m\u001b[39m.\u001b[39m_forward_pre_hooks\n\u001b[0;32m   1499\u001b[0m         \u001b[39mor\u001b[39;00m _global_backward_pre_hooks \u001b[39mor\u001b[39;00m _global_backward_hooks\n\u001b[0;32m   1500\u001b[0m         \u001b[39mor\u001b[39;00m _global_forward_hooks \u001b[39mor\u001b[39;00m _global_forward_pre_hooks):\n\u001b[1;32m-> 1501\u001b[0m     \u001b[39mreturn\u001b[39;00m forward_call(\u001b[39m*\u001b[39;49margs, \u001b[39m*\u001b[39;49m\u001b[39m*\u001b[39;49mkwargs)\n\u001b[0;32m   1502\u001b[0m \u001b[39m# Do not call functions when jit is used\u001b[39;00m\n",
      "File \u001b[1;32mc:\\Users\\pc\\anaconda3\\envs\\SW\\Lib\\site-packages\\torch\\nn\\parallel\\data_parallel.py:169\u001b[0m, in \u001b[0;36mDataParallel.forward\u001b[1;34m(self, *inputs, **kwargs)\u001b[0m\n\u001b[0;32m    168\u001b[0m \u001b[39mif\u001b[39;00m \u001b[39mlen\u001b[39m(\u001b[39mself\u001b[39m\u001b[39m.\u001b[39mdevice_ids) \u001b[39m==\u001b[39m \u001b[39m1\u001b[39m:\n\u001b[1;32m--> 169\u001b[0m     \u001b[39mreturn\u001b[39;00m \u001b[39mself\u001b[39;49m\u001b[39m.\u001b[39;49mmodule(\u001b[39m*\u001b[39;49minputs[\u001b[39m0\u001b[39;49m], \u001b[39m*\u001b[39;49m\u001b[39m*\u001b[39;49mkwargs[\u001b[39m0\u001b[39;49m])\n\u001b[0;32m    170\u001b[0m replicas \u001b[39m=\u001b[39m \u001b[39mself\u001b[39m\u001b[39m.\u001b[39mreplicate(\u001b[39mself\u001b[39m\u001b[39m.\u001b[39mmodule, \u001b[39mself\u001b[39m\u001b[39m.\u001b[39mdevice_ids[:\u001b[39mlen\u001b[39m(inputs)])\n",
      "File \u001b[1;32mc:\\Users\\pc\\anaconda3\\envs\\SW\\Lib\\site-packages\\torch\\nn\\modules\\module.py:1501\u001b[0m, in \u001b[0;36mModule._call_impl\u001b[1;34m(self, *args, **kwargs)\u001b[0m\n\u001b[0;32m   1498\u001b[0m \u001b[39mif\u001b[39;00m \u001b[39mnot\u001b[39;00m (\u001b[39mself\u001b[39m\u001b[39m.\u001b[39m_backward_hooks \u001b[39mor\u001b[39;00m \u001b[39mself\u001b[39m\u001b[39m.\u001b[39m_backward_pre_hooks \u001b[39mor\u001b[39;00m \u001b[39mself\u001b[39m\u001b[39m.\u001b[39m_forward_hooks \u001b[39mor\u001b[39;00m \u001b[39mself\u001b[39m\u001b[39m.\u001b[39m_forward_pre_hooks\n\u001b[0;32m   1499\u001b[0m         \u001b[39mor\u001b[39;00m _global_backward_pre_hooks \u001b[39mor\u001b[39;00m _global_backward_hooks\n\u001b[0;32m   1500\u001b[0m         \u001b[39mor\u001b[39;00m _global_forward_hooks \u001b[39mor\u001b[39;00m _global_forward_pre_hooks):\n\u001b[1;32m-> 1501\u001b[0m     \u001b[39mreturn\u001b[39;00m forward_call(\u001b[39m*\u001b[39;49margs, \u001b[39m*\u001b[39;49m\u001b[39m*\u001b[39;49mkwargs)\n\u001b[0;32m   1502\u001b[0m \u001b[39m# Do not call functions when jit is used\u001b[39;00m\n",
      "File \u001b[1;32mc:\\Users\\pc\\Desktop\\KMU\\Project\\SW중심대학 공동 AI 경진대회 2023\\building-footprint-segmentation\\building-footprint-segmentation\\building_footprint_segmentation\\seg\\binary\\models\\refinenet.py:257\u001b[0m, in \u001b[0;36mReFineNet.forward\u001b[1;34m(self, input_feature)\u001b[0m\n\u001b[0;32m    256\u001b[0m layer_0_output \u001b[39m=\u001b[39m \u001b[39mself\u001b[39m\u001b[39m.\u001b[39mlayer0(input_feature)\n\u001b[1;32m--> 257\u001b[0m layer_1_output \u001b[39m=\u001b[39m \u001b[39mself\u001b[39;49m\u001b[39m.\u001b[39;49mlayer1(layer_0_output)  \u001b[39m# 1/4\u001b[39;00m\n\u001b[0;32m    258\u001b[0m layer_2_output \u001b[39m=\u001b[39m \u001b[39mself\u001b[39m\u001b[39m.\u001b[39mlayer2(layer_1_output)  \u001b[39m# 1/8\u001b[39;00m\n",
      "File \u001b[1;32mc:\\Users\\pc\\anaconda3\\envs\\SW\\Lib\\site-packages\\torch\\nn\\modules\\module.py:1501\u001b[0m, in \u001b[0;36mModule._call_impl\u001b[1;34m(self, *args, **kwargs)\u001b[0m\n\u001b[0;32m   1498\u001b[0m \u001b[39mif\u001b[39;00m \u001b[39mnot\u001b[39;00m (\u001b[39mself\u001b[39m\u001b[39m.\u001b[39m_backward_hooks \u001b[39mor\u001b[39;00m \u001b[39mself\u001b[39m\u001b[39m.\u001b[39m_backward_pre_hooks \u001b[39mor\u001b[39;00m \u001b[39mself\u001b[39m\u001b[39m.\u001b[39m_forward_hooks \u001b[39mor\u001b[39;00m \u001b[39mself\u001b[39m\u001b[39m.\u001b[39m_forward_pre_hooks\n\u001b[0;32m   1499\u001b[0m         \u001b[39mor\u001b[39;00m _global_backward_pre_hooks \u001b[39mor\u001b[39;00m _global_backward_hooks\n\u001b[0;32m   1500\u001b[0m         \u001b[39mor\u001b[39;00m _global_forward_hooks \u001b[39mor\u001b[39;00m _global_forward_pre_hooks):\n\u001b[1;32m-> 1501\u001b[0m     \u001b[39mreturn\u001b[39;00m forward_call(\u001b[39m*\u001b[39;49margs, \u001b[39m*\u001b[39;49m\u001b[39m*\u001b[39;49mkwargs)\n\u001b[0;32m   1502\u001b[0m \u001b[39m# Do not call functions when jit is used\u001b[39;00m\n",
      "File \u001b[1;32mc:\\Users\\pc\\anaconda3\\envs\\SW\\Lib\\site-packages\\torch\\nn\\modules\\container.py:217\u001b[0m, in \u001b[0;36mSequential.forward\u001b[1;34m(self, input)\u001b[0m\n\u001b[0;32m    216\u001b[0m \u001b[39mfor\u001b[39;00m module \u001b[39min\u001b[39;00m \u001b[39mself\u001b[39m:\n\u001b[1;32m--> 217\u001b[0m     \u001b[39minput\u001b[39m \u001b[39m=\u001b[39m module(\u001b[39minput\u001b[39;49m)\n\u001b[0;32m    218\u001b[0m \u001b[39mreturn\u001b[39;00m \u001b[39minput\u001b[39m\n",
      "File \u001b[1;32mc:\\Users\\pc\\anaconda3\\envs\\SW\\Lib\\site-packages\\torch\\nn\\modules\\module.py:1501\u001b[0m, in \u001b[0;36mModule._call_impl\u001b[1;34m(self, *args, **kwargs)\u001b[0m\n\u001b[0;32m   1498\u001b[0m \u001b[39mif\u001b[39;00m \u001b[39mnot\u001b[39;00m (\u001b[39mself\u001b[39m\u001b[39m.\u001b[39m_backward_hooks \u001b[39mor\u001b[39;00m \u001b[39mself\u001b[39m\u001b[39m.\u001b[39m_backward_pre_hooks \u001b[39mor\u001b[39;00m \u001b[39mself\u001b[39m\u001b[39m.\u001b[39m_forward_hooks \u001b[39mor\u001b[39;00m \u001b[39mself\u001b[39m\u001b[39m.\u001b[39m_forward_pre_hooks\n\u001b[0;32m   1499\u001b[0m         \u001b[39mor\u001b[39;00m _global_backward_pre_hooks \u001b[39mor\u001b[39;00m _global_backward_hooks\n\u001b[0;32m   1500\u001b[0m         \u001b[39mor\u001b[39;00m _global_forward_hooks \u001b[39mor\u001b[39;00m _global_forward_pre_hooks):\n\u001b[1;32m-> 1501\u001b[0m     \u001b[39mreturn\u001b[39;00m forward_call(\u001b[39m*\u001b[39;49margs, \u001b[39m*\u001b[39;49m\u001b[39m*\u001b[39;49mkwargs)\n\u001b[0;32m   1502\u001b[0m \u001b[39m# Do not call functions when jit is used\u001b[39;00m\n",
      "File \u001b[1;32mc:\\Users\\pc\\anaconda3\\envs\\SW\\Lib\\site-packages\\torchvision\\models\\resnet.py:147\u001b[0m, in \u001b[0;36mBottleneck.forward\u001b[1;34m(self, x)\u001b[0m\n\u001b[0;32m    146\u001b[0m out \u001b[39m=\u001b[39m \u001b[39mself\u001b[39m\u001b[39m.\u001b[39mconv1(x)\n\u001b[1;32m--> 147\u001b[0m out \u001b[39m=\u001b[39m \u001b[39mself\u001b[39;49m\u001b[39m.\u001b[39;49mbn1(out)\n\u001b[0;32m    148\u001b[0m out \u001b[39m=\u001b[39m \u001b[39mself\u001b[39m\u001b[39m.\u001b[39mrelu(out)\n",
      "File \u001b[1;32mc:\\Users\\pc\\anaconda3\\envs\\SW\\Lib\\site-packages\\torch\\nn\\modules\\module.py:1501\u001b[0m, in \u001b[0;36mModule._call_impl\u001b[1;34m(self, *args, **kwargs)\u001b[0m\n\u001b[0;32m   1498\u001b[0m \u001b[39mif\u001b[39;00m \u001b[39mnot\u001b[39;00m (\u001b[39mself\u001b[39m\u001b[39m.\u001b[39m_backward_hooks \u001b[39mor\u001b[39;00m \u001b[39mself\u001b[39m\u001b[39m.\u001b[39m_backward_pre_hooks \u001b[39mor\u001b[39;00m \u001b[39mself\u001b[39m\u001b[39m.\u001b[39m_forward_hooks \u001b[39mor\u001b[39;00m \u001b[39mself\u001b[39m\u001b[39m.\u001b[39m_forward_pre_hooks\n\u001b[0;32m   1499\u001b[0m         \u001b[39mor\u001b[39;00m _global_backward_pre_hooks \u001b[39mor\u001b[39;00m _global_backward_hooks\n\u001b[0;32m   1500\u001b[0m         \u001b[39mor\u001b[39;00m _global_forward_hooks \u001b[39mor\u001b[39;00m _global_forward_pre_hooks):\n\u001b[1;32m-> 1501\u001b[0m     \u001b[39mreturn\u001b[39;00m forward_call(\u001b[39m*\u001b[39;49margs, \u001b[39m*\u001b[39;49m\u001b[39m*\u001b[39;49mkwargs)\n\u001b[0;32m   1502\u001b[0m \u001b[39m# Do not call functions when jit is used\u001b[39;00m\n",
      "File \u001b[1;32mc:\\Users\\pc\\anaconda3\\envs\\SW\\Lib\\site-packages\\torch\\nn\\modules\\batchnorm.py:151\u001b[0m, in \u001b[0;36m_BatchNorm.forward\u001b[1;34m(self, input)\u001b[0m\n\u001b[0;32m    150\u001b[0m \u001b[39mif\u001b[39;00m \u001b[39mself\u001b[39m\u001b[39m.\u001b[39mnum_batches_tracked \u001b[39mis\u001b[39;00m \u001b[39mnot\u001b[39;00m \u001b[39mNone\u001b[39;00m:  \u001b[39m# type: ignore[has-type]\u001b[39;00m\n\u001b[1;32m--> 151\u001b[0m     \u001b[39mself\u001b[39;49m\u001b[39m.\u001b[39;49mnum_batches_tracked\u001b[39m.\u001b[39;49madd_(\u001b[39m1\u001b[39;49m)  \u001b[39m# type: ignore[has-type]\u001b[39;00m\n\u001b[0;32m    152\u001b[0m     \u001b[39mif\u001b[39;00m \u001b[39mself\u001b[39m\u001b[39m.\u001b[39mmomentum \u001b[39mis\u001b[39;00m \u001b[39mNone\u001b[39;00m:  \u001b[39m# use cumulative moving average\u001b[39;00m\n",
      "\u001b[1;31mKeyboardInterrupt\u001b[0m: ",
      "\nDuring handling of the above exception, another exception occurred:\n",
      "\u001b[1;31mKeyboardInterrupt\u001b[0m                         Traceback (most recent call last)",
      "Cell \u001b[1;32mIn[8], line 1\u001b[0m\n\u001b[1;32m----> 1\u001b[0m trainer\u001b[39m.\u001b[39;49mtrain(start_epoch\u001b[39m=\u001b[39;49m\u001b[39m0\u001b[39;49m, end_epoch\u001b[39m=\u001b[39;49m\u001b[39m70\u001b[39;49m)\n",
      "File \u001b[1;32mc:\\Users\\pc\\Desktop\\KMU\\Project\\SW중심대학 공동 AI 경진대회 2023\\building-footprint-segmentation\\building-footprint-segmentation\\building_footprint_segmentation\\trainer.py:173\u001b[0m, in \u001b[0;36mTrainer.train\u001b[1;34m(self, start_epoch, end_epoch, step, bst_vld_loss)\u001b[0m\n\u001b[0;32m    158\u001b[0m     \u001b[39mself\u001b[39m\u001b[39m.\u001b[39mcallbacks\u001b[39m.\u001b[39minterruption(\n\u001b[0;32m    159\u001b[0m         logs\u001b[39m=\u001b[39m{\n\u001b[0;32m    160\u001b[0m             \u001b[39m*\u001b[39m\u001b[39m*\u001b[39mepoch_logs,\n\u001b[1;32m   (...)\u001b[0m\n\u001b[0;32m    164\u001b[0m         }\n\u001b[0;32m    165\u001b[0m     )\n\u001b[0;32m    167\u001b[0m     one_liner\u001b[39m.\u001b[39mone_line(\n\u001b[0;32m    168\u001b[0m         tag\u001b[39m=\u001b[39m\u001b[39m\"\u001b[39m\u001b[39mKeyBoard Interrupt\u001b[39m\u001b[39m\"\u001b[39m,\n\u001b[0;32m    169\u001b[0m         tag_data\u001b[39m=\u001b[39m\u001b[39mf\u001b[39m\u001b[39m\"\u001b[39m\u001b[39mState Saved at epoch \u001b[39m\u001b[39m{\u001b[39;00mongoing_epoch\u001b[39m}\u001b[39;00m\u001b[39m\"\u001b[39m,\n\u001b[0;32m    170\u001b[0m         tag_color\u001b[39m=\u001b[39m\u001b[39m\"\u001b[39m\u001b[39mcyan\u001b[39m\u001b[39m\"\u001b[39m,\n\u001b[0;32m    171\u001b[0m         to_reset_data\u001b[39m=\u001b[39m\u001b[39mTrue\u001b[39;00m,\n\u001b[0;32m    172\u001b[0m     )\n\u001b[1;32m--> 173\u001b[0m     \u001b[39mraise\u001b[39;00m \u001b[39mKeyboardInterrupt\u001b[39;00m\n\u001b[0;32m    174\u001b[0m \u001b[39mexcept\u001b[39;00m \u001b[39mException\u001b[39;00m \u001b[39mas\u001b[39;00m ex:\n\u001b[0;32m    175\u001b[0m     progress_bar\u001b[39m.\u001b[39mclose()\n",
      "\u001b[1;31mKeyboardInterrupt\u001b[0m: "
     ]
    }
   ],
   "source": [
    "trainer.train(start_epoch=0, end_epoch=70)"
   ]
  },
  {
   "attachments": {},
   "cell_type": "markdown",
   "metadata": {},
   "source": [
    "### Resuming Training\n"
   ]
  },
  {
   "cell_type": "code",
   "execution_count": 8,
   "metadata": {},
   "outputs": [
    {
     "name": "stderr",
     "output_type": "stream",
     "text": [
      "Epoch 64, lr 0.05: 100%|██████████| 7072/7072 [07:41<00:00, 15.32it/s, loss=0.21811]\n"
     ]
    },
    {
     "name": "stdout",
     "output_type": "stream",
     "text": [
      "\u001b[1;37m>>\u001b[KPy-OneLiner : \u001b[36mLoss\u001b[0m : \u001b[30mtrain: 0.2181123558431864, validation: 0.22453648038208485\u001b[0m\n",
      "\u001b[1;37m>>\u001b[KPy-OneLiner : \u001b[36mTrain Metric\u001b[0m : \u001b[30mprecision : 0.76687, f1 : 0.73257, recall : 0.72325, iou : 0.59307, dice : 0.73257\u001b[0m\n",
      "\u001b[1;37m>>\u001b[KPy-OneLiner : \u001b[36mValid Metric\u001b[0m : \u001b[30mprecision : 0.72550, f1 : 0.74938, recall : 0.77672, iou : 0.60149, dice : 0.74938\u001b[0m"
     ]
    },
    {
     "name": "stderr",
     "output_type": "stream",
     "text": [
      "Epoch 65, lr 0.05: 100%|██████████| 7072/7072 [07:30<00:00, 15.70it/s, loss=0.22118]\n"
     ]
    },
    {
     "name": "stdout",
     "output_type": "stream",
     "text": [
      "\u001b[1;37m>>\u001b[KPy-OneLiner : \u001b[36mLoss\u001b[0m : \u001b[30mtrain: 0.22118433173745872, validation: 0.24284967966377735\u001b[0m\n",
      "\u001b[1;37m>>\u001b[KPy-OneLiner : \u001b[36mTrain Metric\u001b[0m : \u001b[30mprecision : 0.75739, f1 : 0.73149, recall : 0.73467, iou : 0.59400, dice : 0.73149\u001b[0m\n",
      "\u001b[1;37m>>\u001b[KPy-OneLiner : \u001b[36mValid Metric\u001b[0m : \u001b[30mprecision : 0.70907, f1 : 0.72671, recall : 0.74683, iou : 0.57373, dice : 0.72671\u001b[0m"
     ]
    },
    {
     "name": "stderr",
     "output_type": "stream",
     "text": [
      "Epoch 66, lr 0.05: 100%|██████████| 7072/7072 [08:06<00:00, 14.55it/s, loss=0.27258]\n"
     ]
    },
    {
     "name": "stdout",
     "output_type": "stream",
     "text": [
      "\u001b[1;37m>>\u001b[KPy-OneLiner : \u001b[36mLoss\u001b[0m : \u001b[30mtrain: 0.2725849804282188, validation: 0.25330566614866257\u001b[0m\n",
      "\u001b[1;37m>>\u001b[KPy-OneLiner : \u001b[36mTrain Metric\u001b[0m : \u001b[30mprecision : 0.74250, f1 : 0.71710, recall : 0.72738, iou : 0.57838, dice : 0.71710\u001b[0m\n",
      "\u001b[1;37m>>\u001b[KPy-OneLiner : \u001b[36mValid Metric\u001b[0m : \u001b[30mprecision : 0.71114, f1 : 0.71325, recall : 0.71879, iou : 0.55797, dice : 0.71325\u001b[0m"
     ]
    },
    {
     "name": "stderr",
     "output_type": "stream",
     "text": [
      "Epoch 67, lr 0.05: 100%|██████████| 7072/7072 [08:34<00:00, 13.74it/s, loss=0.24748]\n"
     ]
    },
    {
     "name": "stdout",
     "output_type": "stream",
     "text": [
      "\u001b[1;37m>>\u001b[KPy-OneLiner : \u001b[36mLoss\u001b[0m : \u001b[30mtrain: 0.2474769514799118, validation: 0.27249770052731037\u001b[0m\n",
      "\u001b[1;37m>>\u001b[KPy-OneLiner : \u001b[36mTrain Metric\u001b[0m : \u001b[30mprecision : 0.75151, f1 : 0.72225, recall : 0.72202, iou : 0.58420, dice : 0.72225\u001b[0m\n",
      "\u001b[1;37m>>\u001b[KPy-OneLiner : \u001b[36mValid Metric\u001b[0m : \u001b[30mprecision : 0.62585, f1 : 0.70414, recall : 0.80569, iou : 0.54408, dice : 0.70414\u001b[0m"
     ]
    },
    {
     "name": "stderr",
     "output_type": "stream",
     "text": [
      "Epoch 68, lr 0.05: 100%|██████████| 7072/7072 [38:33<00:00,  3.06it/s, loss=0.22727]\n"
     ]
    },
    {
     "name": "stdout",
     "output_type": "stream",
     "text": [
      "\u001b[1;37m>>\u001b[KPy-OneLiner : \u001b[36mLoss\u001b[0m : \u001b[30mtrain: 0.22727415218949318, validation: 0.24050509929656982\u001b[0m\n",
      "\u001b[1;37m>>\u001b[KPy-OneLiner : \u001b[36mTrain Metric\u001b[0m : \u001b[30mprecision : 0.74926, f1 : 0.71770, recall : 0.71668, iou : 0.57739, dice : 0.71770\u001b[0m\n",
      "\u001b[1;37m>>\u001b[KPy-OneLiner : \u001b[36mValid Metric\u001b[0m : \u001b[30mprecision : 0.70835, f1 : 0.73008, recall : 0.75611, iou : 0.57697, dice : 0.73008\u001b[0m"
     ]
    },
    {
     "name": "stderr",
     "output_type": "stream",
     "text": [
      "Epoch 69, lr 0.05:  33%|███▎      | 2336/7072 [25:52<52:27,  1.50it/s, loss=0.21028]  \n"
     ]
    },
    {
     "name": "stdout",
     "output_type": "stream",
     "text": [
      "\n",
      "\u001b[1;37m>>\u001b[KPy-OneLiner : \u001b[36mKeyBoard Interrupt\u001b[0m : \u001b[30mState Saved at epoch 69\u001b[0m[0m"
     ]
    },
    {
     "ename": "KeyboardInterrupt",
     "evalue": "",
     "output_type": "error",
     "traceback": [
      "\u001b[1;31m---------------------------------------------------------------------------\u001b[0m",
      "\u001b[1;31mKeyboardInterrupt\u001b[0m                         Traceback (most recent call last)",
      "File \u001b[1;32mc:\\Users\\pc\\Desktop\\KMU\\Project\\SW중심대학 공동 AI 경진대회 2023\\building-footprint-segmentation\\building-footprint-segmentation\\building_footprint_segmentation\\trainer.py:96\u001b[0m, in \u001b[0;36mTrainer.train\u001b[1;34m(self, start_epoch, end_epoch, step, bst_vld_loss)\u001b[0m\n\u001b[0;32m     94\u001b[0m     \u001b[39mself\u001b[39m\u001b[39m.\u001b[39mmodel\u001b[39m.\u001b[39mtrain()\n\u001b[1;32m---> 96\u001b[0m train_loss, train_metric, step, progress_bar \u001b[39m=\u001b[39m \u001b[39mself\u001b[39;49m\u001b[39m.\u001b[39;49mstate_train(\n\u001b[0;32m     97\u001b[0m     step, progress_bar\n\u001b[0;32m     98\u001b[0m )\n\u001b[0;32m     99\u001b[0m progress_bar\u001b[39m.\u001b[39mclose()\n",
      "File \u001b[1;32mc:\\Users\\pc\\Desktop\\KMU\\Project\\SW중심대학 공동 AI 경진대회 2023\\building-footprint-segmentation\\building-footprint-segmentation\\building_footprint_segmentation\\trainer.py:217\u001b[0m, in \u001b[0;36mTrainer.state_train\u001b[1;34m(self, step, progress_bar)\u001b[0m\n\u001b[0;32m    216\u001b[0m batch_loss\u001b[39m.\u001b[39mappend(calculated_loss\u001b[39m.\u001b[39mitem())\n\u001b[1;32m--> 217\u001b[0m mean_loss \u001b[39m=\u001b[39m np\u001b[39m.\u001b[39;49mmean(batch_loss[\u001b[39m-\u001b[39;49mreport_each:])\n\u001b[0;32m    218\u001b[0m batch_logs \u001b[39m=\u001b[39m handle_dictionary(\n\u001b[0;32m    219\u001b[0m     batch_logs, \u001b[39m\"\u001b[39m\u001b[39mplt_lr\u001b[39m\u001b[39m\"\u001b[39m, {\u001b[39m\"\u001b[39m\u001b[39mdata\u001b[39m\u001b[39m\"\u001b[39m: mean_loss, \u001b[39m\"\u001b[39m\u001b[39mtag\u001b[39m\u001b[39m\"\u001b[39m: \u001b[39m\"\u001b[39m\u001b[39mLoss/Step\u001b[39m\u001b[39m\"\u001b[39m}\n\u001b[0;32m    220\u001b[0m )\n",
      "File \u001b[1;32mc:\\Users\\pc\\anaconda3\\envs\\SW\\Lib\\site-packages\\numpy\\core\\fromnumeric.py:3380\u001b[0m, in \u001b[0;36m_mean_dispatcher\u001b[1;34m(a, axis, dtype, out, keepdims, where)\u001b[0m\n\u001b[0;32m   3377\u001b[0m     \u001b[39mreturn\u001b[39;00m _wrapfunc(a, \u001b[39m'\u001b[39m\u001b[39mround\u001b[39m\u001b[39m'\u001b[39m, decimals\u001b[39m=\u001b[39mdecimals, out\u001b[39m=\u001b[39mout)\n\u001b[1;32m-> 3380\u001b[0m \u001b[39mdef\u001b[39;00m \u001b[39m_mean_dispatcher\u001b[39m(a, axis\u001b[39m=\u001b[39m\u001b[39mNone\u001b[39;00m, dtype\u001b[39m=\u001b[39m\u001b[39mNone\u001b[39;00m, out\u001b[39m=\u001b[39m\u001b[39mNone\u001b[39;00m, keepdims\u001b[39m=\u001b[39m\u001b[39mNone\u001b[39;00m, \u001b[39m*\u001b[39m,\n\u001b[0;32m   3381\u001b[0m                      where\u001b[39m=\u001b[39m\u001b[39mNone\u001b[39;00m):\n\u001b[0;32m   3382\u001b[0m     \u001b[39mreturn\u001b[39;00m (a, where, out)\n",
      "\u001b[1;31mKeyboardInterrupt\u001b[0m: ",
      "\nDuring handling of the above exception, another exception occurred:\n",
      "\u001b[1;31mKeyboardInterrupt\u001b[0m                         Traceback (most recent call last)",
      "Cell \u001b[1;32mIn[8], line 4\u001b[0m\n\u001b[0;32m      1\u001b[0m path_to_saved_state \u001b[39m=\u001b[39m \u001b[39mr\u001b[39m\u001b[39m\"\u001b[39m\u001b[39mout_data/20230727-005217/state/default.pt\u001b[39m\u001b[39m\"\u001b[39m\n\u001b[0;32m      3\u001b[0m \u001b[39m# if new_end_epoch is None, the trainer will resume and run till end_epoch, the value of which is saved in state file \u001b[39;00m\n\u001b[1;32m----> 4\u001b[0m trainer\u001b[39m.\u001b[39;49mresume(state\u001b[39m=\u001b[39;49mpath_to_saved_state, new_end_epoch\u001b[39m=\u001b[39;49m\u001b[39m70\u001b[39;49m)\n",
      "File \u001b[1;32mc:\\Users\\pc\\Desktop\\KMU\\Project\\SW중심대학 공동 AI 경진대회 2023\\building-footprint-segmentation\\building-footprint-segmentation\\building_footprint_segmentation\\trainer.py:68\u001b[0m, in \u001b[0;36mTrainer.resume\u001b[1;34m(self, state, new_end_epoch)\u001b[0m\n\u001b[0;32m     63\u001b[0m     end_epoch \u001b[39m=\u001b[39m new_end_epoch\n\u001b[0;32m     65\u001b[0m logger\u001b[39m.\u001b[39mdebug(\n\u001b[0;32m     66\u001b[0m     \u001b[39mf\u001b[39m\u001b[39m\"\u001b[39m\u001b[39mResuming State \u001b[39m\u001b[39m{\u001b[39;00mstate\u001b[39m}\u001b[39;00m\u001b[39m, with, step: \u001b[39m\u001b[39m{\u001b[39;00mstep\u001b[39m}\u001b[39;00m\u001b[39m, start_epoch: \u001b[39m\u001b[39m{\u001b[39;00mstart_epoch\u001b[39m}\u001b[39;00m\u001b[39m\"\u001b[39m\n\u001b[0;32m     67\u001b[0m )\n\u001b[1;32m---> 68\u001b[0m \u001b[39mself\u001b[39;49m\u001b[39m.\u001b[39;49mtrain(start_epoch, end_epoch, step, bst_vld_loss)\n",
      "File \u001b[1;32mc:\\Users\\pc\\Desktop\\KMU\\Project\\SW중심대학 공동 AI 경진대회 2023\\building-footprint-segmentation\\building-footprint-segmentation\\building_footprint_segmentation\\trainer.py:173\u001b[0m, in \u001b[0;36mTrainer.train\u001b[1;34m(self, start_epoch, end_epoch, step, bst_vld_loss)\u001b[0m\n\u001b[0;32m    158\u001b[0m     \u001b[39mself\u001b[39m\u001b[39m.\u001b[39mcallbacks\u001b[39m.\u001b[39minterruption(\n\u001b[0;32m    159\u001b[0m         logs\u001b[39m=\u001b[39m{\n\u001b[0;32m    160\u001b[0m             \u001b[39m*\u001b[39m\u001b[39m*\u001b[39mepoch_logs,\n\u001b[1;32m   (...)\u001b[0m\n\u001b[0;32m    164\u001b[0m         }\n\u001b[0;32m    165\u001b[0m     )\n\u001b[0;32m    167\u001b[0m     one_liner\u001b[39m.\u001b[39mone_line(\n\u001b[0;32m    168\u001b[0m         tag\u001b[39m=\u001b[39m\u001b[39m\"\u001b[39m\u001b[39mKeyBoard Interrupt\u001b[39m\u001b[39m\"\u001b[39m,\n\u001b[0;32m    169\u001b[0m         tag_data\u001b[39m=\u001b[39m\u001b[39mf\u001b[39m\u001b[39m\"\u001b[39m\u001b[39mState Saved at epoch \u001b[39m\u001b[39m{\u001b[39;00mongoing_epoch\u001b[39m}\u001b[39;00m\u001b[39m\"\u001b[39m,\n\u001b[0;32m    170\u001b[0m         tag_color\u001b[39m=\u001b[39m\u001b[39m\"\u001b[39m\u001b[39mcyan\u001b[39m\u001b[39m\"\u001b[39m,\n\u001b[0;32m    171\u001b[0m         to_reset_data\u001b[39m=\u001b[39m\u001b[39mTrue\u001b[39;00m,\n\u001b[0;32m    172\u001b[0m     )\n\u001b[1;32m--> 173\u001b[0m     \u001b[39mraise\u001b[39;00m \u001b[39mKeyboardInterrupt\u001b[39;00m\n\u001b[0;32m    174\u001b[0m \u001b[39mexcept\u001b[39;00m \u001b[39mException\u001b[39;00m \u001b[39mas\u001b[39;00m ex:\n\u001b[0;32m    175\u001b[0m     progress_bar\u001b[39m.\u001b[39mclose()\n",
      "\u001b[1;31mKeyboardInterrupt\u001b[0m: "
     ]
    }
   ],
   "source": [
    "path_to_saved_state = r\"out_data/20230727-005217/state/default.pt\"\n",
    "\n",
    "# if new_end_epoch is None, the trainer will resume and run till end_epoch, the value of which is saved in state file \n",
    "trainer.resume(state=path_to_saved_state, new_end_epoch=70)"
   ]
  },
  {
   "cell_type": "code",
   "execution_count": null,
   "metadata": {},
   "outputs": [],
   "source": []
  }
 ],
 "metadata": {
  "kernelspec": {
   "display_name": "Python 3 (ipykernel)",
   "language": "python",
   "name": "python3"
  },
  "language_info": {
   "codemirror_mode": {
    "name": "ipython",
    "version": 3
   },
   "file_extension": ".py",
   "mimetype": "text/x-python",
   "name": "python",
   "nbconvert_exporter": "python",
   "pygments_lexer": "ipython3",
   "version": "3.11.4"
  }
 },
 "nbformat": 4,
 "nbformat_minor": 4
}
