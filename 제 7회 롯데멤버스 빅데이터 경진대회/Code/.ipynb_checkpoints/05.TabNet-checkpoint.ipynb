{
 "cells": [
  {
   "cell_type": "markdown",
   "id": "e26feb01",
   "metadata": {
    "id": "e26feb01"
   },
   "source": [
    "# Import"
   ]
  },
  {
   "cell_type": "code",
   "execution_count": 1,
   "id": "5ca97217",
   "metadata": {
    "id": "5ca97217"
   },
   "outputs": [],
   "source": [
    "from pytorch_tabnet.tab_model import TabNetClassifier\n",
    "from pytorch_tabnet.pretraining import TabNetPretrainer\n",
    "import torch\n",
    "from sklearn.preprocessing import LabelEncoder\n",
    "from sklearn.metrics import roc_auc_score\n",
    "import pandas as pd\n",
    "import numpy as np\n",
    "np.random.seed(0)\n",
    "import os\n",
    "#import wget\n",
    "from pathlib import Path\n",
    "from matplotlib import pyplot as plt\n",
    "from torch.optim.lr_scheduler import ReduceLROnPlateau, CosineAnnealingWarmRestarts\n",
    "%matplotlib inline"
   ]
  },
  {
   "cell_type": "markdown",
   "id": "593aef62",
   "metadata": {
    "id": "593aef62"
   },
   "source": [
    "# Data Load"
   ]
  },
  {
   "cell_type": "code",
   "execution_count": 2,
   "id": "2603be6b",
   "metadata": {
    "id": "2603be6b"
   },
   "outputs": [],
   "source": [
    "train = pd.read_csv('../3.로티로리_데이터 및 모델 세이브 파일/features12_tr.csv').drop('cust',axis=1)\n",
    "test = pd.read_csv('../3.로티로리_데이터 및 모델 세이브 파일/features3_te.csv').drop('cust',axis=1)"
   ]
  },
  {
   "cell_type": "code",
   "execution_count": 3,
   "id": "426e267d",
   "metadata": {
    "id": "426e267d"
   },
   "outputs": [],
   "source": [
    "target = 'lpay_use_status'    # 75번째 컬럼\n",
    "if \"Set\" not in train.columns:\n",
    "    train[\"Set\"] = np.random.choice([\"train\", \"valid\"], p =[.8, .2], size=(train.shape[0],))\n",
    "    \n",
    "test['Set'] = 'test'\n",
    "data = pd.concat([train,test]).reset_index(drop=True)\n",
    "\n",
    "train_indices = data[data.Set==\"train\"].index\n",
    "valid_indices = data[data.Set==\"valid\"].index\n",
    "test_indices = data[data.Set==\"test\"].index"
   ]
  },
  {
   "cell_type": "markdown",
   "id": "6dc0ae8e",
   "metadata": {
    "id": "6dc0ae8e"
   },
   "source": [
    "# Preprocessing"
   ]
  },
  {
   "cell_type": "code",
   "execution_count": 4,
   "id": "3965eba7",
   "metadata": {
    "colab": {
     "base_uri": "https://localhost:8080/"
    },
    "id": "3965eba7",
    "outputId": "6f132bef-b048-4e9a-a7e3-14aa1cefb3cb",
    "scrolled": true
   },
   "outputs": [
    {
     "name": "stdout",
     "output_type": "stream",
     "text": [
      "mpd_nunique 130\n",
      "favorite_pd 288\n",
      "favorite_zon 209\n",
      "favorite_loc 18\n",
      "num_visit 126\n",
      "fri_count 191\n",
      "mon_count 195\n",
      "sun_count 187\n",
      "thu_count 165\n",
      "tue_count 173\n",
      "wed_count 171\n",
      "most_buying_hour 24\n",
      "most_buying_weekday 7\n",
      "most_expensive 60\n",
      "on_hot_time_buy_count 173\n",
      "pdde_chnl_diversity 3\n",
      "pdde_most_use_chnl 2\n",
      "pdde_cop_c_utilization_diversity 7\n",
      "pdde_cop_c_most_use 8\n",
      "pd_c_difference 249\n",
      "cop_u_chnl_diversity 3\n",
      "cop_u_number_of_chnl_off 64\n",
      "cop_u_number_of_chnl_on 39\n",
      "cop_u_cop_c_utilization_diversity 7\n",
      "cop_u_cop_c_most_use 8\n",
      "A01 240\n",
      "A04 219\n",
      "A05 24\n",
      "A06 132\n",
      "B01 29\n",
      "C01 43\n",
      "C02 44\n",
      "D01 52\n",
      "D02 44\n",
      "E01 39\n",
      "sum_use_cop_u 65\n",
      "R 5\n",
      "F 5\n",
      "M 5\n",
      "RFMscore 59\n",
      "most_buy_cop_u 14\n",
      "lpay_use_status 4\n",
      "Set 3\n"
     ]
    }
   ],
   "source": [
    "nunique = data.nunique()\n",
    "types = data.dtypes\n",
    "\n",
    "categorical_columns = []\n",
    "categorical_dims =  {}\n",
    "for col in data.columns:\n",
    "    if types[col] == 'object' or nunique[col] < 250:\n",
    "        print(col, data[col].nunique())\n",
    "        l_enc = LabelEncoder()\n",
    "        data[col] = data[col].fillna(\"VV_likely\")\n",
    "        data[col] = l_enc.fit_transform(data[col].values)\n",
    "        categorical_columns.append(col)\n",
    "        categorical_dims[col] = len(l_enc.classes_)\n",
    "    else:\n",
    "        data.fillna(data.loc[train_indices, col].mean(), inplace=True)\n",
    "\n",
    "\n",
    "# Categorical Embedding을 위해 Categorical 변수의 차원과 idxs를 담음.\n",
    "unused_feat = ['Set']\n",
    "features = [ col for col in data.columns if col not in unused_feat+[target]] \n",
    "cat_idxs = [ i for i, f in enumerate(features) if f in categorical_columns]\n",
    "cat_dims = [ categorical_dims[f] for i, f in enumerate(features) if f in categorical_columns]\n",
    "\n",
    "\n",
    "\n",
    "X_train = data[features].values[train_indices]\n",
    "y_train = data[target].values[train_indices]\n",
    "\n",
    "X_valid = data[features].values[valid_indices]\n",
    "y_valid = data[target].values[valid_indices]\n",
    "\n",
    "X_test = data[features].values[test_indices]\n",
    "y_test = data[target].values[test_indices]"
   ]
  },
  {
   "cell_type": "code",
   "execution_count": 5,
   "id": "37b248b3",
   "metadata": {
    "colab": {
     "base_uri": "https://localhost:8080/"
    },
    "id": "37b248b3",
    "outputId": "6bba88f0-65c0-419c-d04a-1761557a8969"
   },
   "outputs": [
    {
     "name": "stdout",
     "output_type": "stream",
     "text": [
      "<class 'pandas.core.frame.DataFrame'>\n",
      "RangeIndex: 18638 entries, 0 to 18637\n",
      "Data columns (total 82 columns):\n",
      " #   Column                             Non-Null Count  Dtype  \n",
      "---  ------                             --------------  -----  \n",
      " 0   mpd_nunique                        18638 non-null  float64\n",
      " 1   favorite_pd                        18638 non-null  object \n",
      " 2   favorite_zon                       18638 non-null  object \n",
      " 3   favorite_loc                       18638 non-null  object \n",
      " 4   mean_buy_am                        18638 non-null  float64\n",
      " 5   max_buy_am                         18638 non-null  float64\n",
      " 6   num_visit                          18638 non-null  int64  \n",
      " 7   day_sum_buy_am                     18638 non-null  float64\n",
      " 8   day_count_buy_am                   18638 non-null  float64\n",
      " 9   buy_mean_end                       18638 non-null  float64\n",
      " 10  buy_mean_middle                    18638 non-null  float64\n",
      " 11  buy_mean_begin                     18638 non-null  float64\n",
      " 12  buy_count_end                      18638 non-null  int64  \n",
      " 13  buy_count_middle                   18638 non-null  int64  \n",
      " 14  buy_count_begin                    18638 non-null  int64  \n",
      " 15  buy_cycle                          18638 non-null  float64\n",
      " 16  visit_weekend_ratio                18638 non-null  float64\n",
      " 17  fri_mean                           18638 non-null  float64\n",
      " 18  mon_mean                           18638 non-null  float64\n",
      " 19  sat_mean                           18638 non-null  float64\n",
      " 20  sun_mean                           18638 non-null  float64\n",
      " 21  thu_mean                           18638 non-null  float64\n",
      " 22  tue_mean                           18638 non-null  float64\n",
      " 23  wed_mean                           18638 non-null  float64\n",
      " 24  fri_count                          18638 non-null  int64  \n",
      " 25  mon_count                          18638 non-null  int64  \n",
      " 26  sat_count                          18638 non-null  int64  \n",
      " 27  sun_count                          18638 non-null  int64  \n",
      " 28  thu_count                          18638 non-null  int64  \n",
      " 29  tue_count                          18638 non-null  int64  \n",
      " 30  wed_count                          18638 non-null  int64  \n",
      " 31  most_buying_day                    18638 non-null  int64  \n",
      " 32  most_buying_hour                   18638 non-null  int64  \n",
      " 33  most_buying_weekday                18638 non-null  object \n",
      " 34  most_expensive                     18638 non-null  object \n",
      " 35  off_hot_time_buy_am                18638 non-null  float64\n",
      " 36  off_hot_time_buy_count             18638 non-null  float64\n",
      " 37  on_hot_time_buy_am                 18638 non-null  float64\n",
      " 38  on_hot_time_buy_count              18638 non-null  float64\n",
      " 39  mean_temperature                   18638 non-null  float64\n",
      " 40  mean_huminity                      18638 non-null  float64\n",
      " 41  mean_rainfall                      18638 non-null  float64\n",
      " 42  mean_atmosphere                    18638 non-null  float64\n",
      " 43  pdde_chnl_diversity                18638 non-null  float64\n",
      " 44  pdde_number_of_chnl_off            18638 non-null  float64\n",
      " 45  pdde_number_of_chnl_on             18638 non-null  float64\n",
      " 46  pdde_most_use_chnl                 18638 non-null  object \n",
      " 47  pdde_cop_c_utilization_diversity   18638 non-null  float64\n",
      " 48  pdde_cop_c_most_use                18638 non-null  object \n",
      " 49  pd_c_difference                    18638 non-null  float64\n",
      " 50  cop_u_chnl_diversity               18638 non-null  float64\n",
      " 51  cop_u_number_of_chnl_off           18638 non-null  float64\n",
      " 52  cop_u_number_of_chnl_on            18638 non-null  float64\n",
      " 53  cop_u_cop_c_utilization_diversity  18638 non-null  float64\n",
      " 54  cop_u_cop_c_most_use               18638 non-null  object \n",
      " 55  A01                                18638 non-null  float64\n",
      " 56  A02                                18638 non-null  float64\n",
      " 57  A03                                18638 non-null  float64\n",
      " 58  A04                                18638 non-null  float64\n",
      " 59  A05                                18638 non-null  float64\n",
      " 60  A06                                18638 non-null  float64\n",
      " 61  B01                                18638 non-null  float64\n",
      " 62  C01                                18638 non-null  float64\n",
      " 63  C02                                18638 non-null  float64\n",
      " 64  D01                                18638 non-null  float64\n",
      " 65  D02                                18638 non-null  float64\n",
      " 66  E01                                18638 non-null  float64\n",
      " 67  sum_use_pdde                       18638 non-null  float64\n",
      " 68  sum_use_cop_u                      18638 non-null  float64\n",
      " 69  sum_use                            18638 non-null  int64  \n",
      " 70  recency                            18638 non-null  int64  \n",
      " 71  frequency                          18638 non-null  int64  \n",
      " 72  monetary                           18638 non-null  float64\n",
      " 73  R                                  18638 non-null  int64  \n",
      " 74  F                                  18638 non-null  int64  \n",
      " 75  M                                  18638 non-null  int64  \n",
      " 76  RFMscore                           18638 non-null  int64  \n",
      " 77  weekend_holiday_use                18638 non-null  int64  \n",
      " 78  buy_ct_sum                         18638 non-null  float64\n",
      " 79  most_buy_cop_u                     18638 non-null  object \n",
      " 80  lpay_use_status                    18638 non-null  object \n",
      " 81  Set                                18638 non-null  object \n",
      "dtypes: float64(50), int64(21), object(11)\n",
      "memory usage: 11.7+ MB\n"
     ]
    }
   ],
   "source": [
    "train.info()"
   ]
  },
  {
   "cell_type": "markdown",
   "id": "676fcdf3",
   "metadata": {
    "id": "676fcdf3"
   },
   "source": [
    "# Model"
   ]
  },
  {
   "cell_type": "code",
   "execution_count": 6,
   "id": "eec2f5d1",
   "metadata": {
    "colab": {
     "base_uri": "https://localhost:8080/"
    },
    "id": "eec2f5d1",
    "outputId": "82a6f9a7-bcea-472a-895e-a51e8b359340"
   },
   "outputs": [
    {
     "name": "stdout",
     "output_type": "stream",
     "text": [
      "Device used : cpu\n"
     ]
    }
   ],
   "source": [
    "# TabNetPretrainer\n",
    "unsupervised_model = TabNetPretrainer(\n",
    "    optimizer_fn=torch.optim.Adam,\n",
    "    optimizer_params=dict(lr=1e-2),\n",
    "    mask_type='entmax' # \"sparsemax\"\n",
    ")"
   ]
  },
  {
   "cell_type": "code",
   "execution_count": 7,
   "id": "17c0f5ab",
   "metadata": {
    "colab": {
     "base_uri": "https://localhost:8080/"
    },
    "id": "17c0f5ab",
    "outputId": "90cc2050-6764-4233-c816-f4dfa1fb8a8e"
   },
   "outputs": [
    {
     "name": "stdout",
     "output_type": "stream",
     "text": [
      "epoch 0  | loss: 170684059.22282| val_0_unsup_loss: 167461152.0|  0:00:03s\n",
      "epoch 1  | loss: 169006149.12009| val_0_unsup_loss: 167461120.0|  0:00:05s\n",
      "epoch 2  | loss: 170963543.73478| val_0_unsup_loss: 167461040.0|  0:00:08s\n",
      "epoch 3  | loss: 169401514.46414| val_0_unsup_loss: 167460896.0|  0:00:11s\n",
      "epoch 4  | loss: 169868067.29087| val_0_unsup_loss: 167460800.0|  0:00:12s\n",
      "epoch 5  | loss: 170625590.72319| val_0_unsup_loss: 167460640.0|  0:00:13s\n",
      "epoch 6  | loss: 168595054.93055| val_0_unsup_loss: 167460448.0|  0:00:15s\n",
      "epoch 7  | loss: 168229112.61242| val_0_unsup_loss: 167460640.0|  0:00:16s\n",
      "epoch 8  | loss: 170910835.86632| val_0_unsup_loss: 167460640.0|  0:00:18s\n",
      "epoch 9  | loss: 170166489.8844| val_0_unsup_loss: 167460512.0|  0:00:20s\n",
      "epoch 10 | loss: 169696535.36079| val_0_unsup_loss: 167460512.0|  0:00:22s\n",
      "epoch 11 | loss: 168269249.24091| val_0_unsup_loss: 167460624.0|  0:00:24s\n",
      "epoch 12 | loss: 168673599.73746| val_0_unsup_loss: 167460864.0|  0:00:26s\n",
      "epoch 13 | loss: 169954348.46159| val_0_unsup_loss: 167460880.0|  0:00:28s\n",
      "epoch 14 | loss: 169738731.74898| val_0_unsup_loss: 167460944.0|  0:00:30s\n",
      "epoch 15 | loss: 169995474.31143| val_0_unsup_loss: 167460976.0|  0:00:32s\n",
      "epoch 16 | loss: 169057985.51952| val_0_unsup_loss: 167460960.0|  0:00:33s\n",
      "\n",
      "Early stopping occurred at epoch 16 with best_epoch = 6 and best_val_0_unsup_loss = 167460448.0\n",
      "Best weights from best epoch are automatically used!\n"
     ]
    }
   ],
   "source": [
    "unsupervised_model.fit(\n",
    "    X_train=X_train,\n",
    "    eval_set=[X_valid],\n",
    "    pretraining_ratio=0.8,\n",
    ")"
   ]
  },
  {
   "cell_type": "code",
   "execution_count": 8,
   "id": "da196e55",
   "metadata": {
    "colab": {
     "base_uri": "https://localhost:8080/"
    },
    "id": "da196e55",
    "outputId": "69cdf5c4-8c78-40fc-ec60-e4cb18d8dfe7"
   },
   "outputs": [
    {
     "name": "stdout",
     "output_type": "stream",
     "text": [
      "Device used : cpu\n"
     ]
    }
   ],
   "source": [
    "clf = TabNetClassifier(\n",
    "    cat_idxs=cat_idxs,\n",
    "    cat_dims=cat_dims,\n",
    "    cat_emb_dim=6,\n",
    "    optimizer_fn=torch.optim.Adam,\n",
    "    optimizer_params=dict(lr=1e-2),\n",
    "    scheduler_params={\"step_size\":10, # how to use learning rate scheduler\n",
    "                      \"gamma\":0.9},\n",
    "    scheduler_fn=torch.optim.lr_scheduler.StepLR,\n",
    "    mask_type='entmax' # This will be overwritten if using pretrain model\n",
    ")"
   ]
  },
  {
   "cell_type": "code",
   "execution_count": 9,
   "id": "17e54a36",
   "metadata": {
    "colab": {
     "base_uri": "https://localhost:8080/"
    },
    "id": "17e54a36",
    "outputId": "b4e5f715-14c4-413e-9cea-35951e3ea7c5"
   },
   "outputs": [
    {
     "name": "stdout",
     "output_type": "stream",
     "text": [
      "Loading weights from unsupervised pretraining\n"
     ]
    },
    {
     "name": "stderr",
     "output_type": "stream",
     "text": [
      "/usr/local/lib/python3.7/dist-packages/pytorch_tabnet/abstract_model.py:97: UserWarning: Pretraining: cat_dims changed from [130, 288, 209, 18, 126, 191, 195, 187, 165, 173, 171, 24, 7, 60, 173, 3, 2, 7, 8, 249, 3, 64, 39, 7, 8, 240, 219, 24, 132, 29, 43, 44, 52, 44, 39, 65, 5, 5, 5, 59, 14] to []\n",
      "  warnings.warn(wrn_msg)\n",
      "/usr/local/lib/python3.7/dist-packages/pytorch_tabnet/abstract_model.py:97: UserWarning: Pretraining: cat_emb_dim changed from 6 to 1\n",
      "  warnings.warn(wrn_msg)\n",
      "/usr/local/lib/python3.7/dist-packages/pytorch_tabnet/abstract_model.py:97: UserWarning: Pretraining: cat_idxs changed from [0, 1, 2, 3, 6, 24, 25, 27, 28, 29, 30, 32, 33, 34, 38, 43, 46, 47, 48, 49, 50, 51, 52, 53, 54, 55, 58, 59, 60, 61, 62, 63, 64, 65, 66, 68, 73, 74, 75, 76, 79] to []\n",
      "  warnings.warn(wrn_msg)\n"
     ]
    },
    {
     "name": "stdout",
     "output_type": "stream",
     "text": [
      "epoch 0  | loss: 3.60796 | train_accuracy: 0.51571 | valid_accuracy: 0.51443 |  0:00:02s\n",
      "epoch 1  | loss: 1.53329 | train_accuracy: 0.49963 | valid_accuracy: 0.49852 |  0:00:04s\n",
      "epoch 2  | loss: 1.02506 | train_accuracy: 0.5648  | valid_accuracy: 0.56623 |  0:00:07s\n",
      "epoch 3  | loss: 0.89906 | train_accuracy: 0.63519 | valid_accuracy: 0.64311 |  0:00:08s\n",
      "epoch 4  | loss: 0.84851 | train_accuracy: 0.64852 | valid_accuracy: 0.6566  |  0:00:10s\n",
      "epoch 5  | loss: 0.81667 | train_accuracy: 0.65696 | valid_accuracy: 0.66118 |  0:00:13s\n",
      "epoch 6  | loss: 0.79796 | train_accuracy: 0.65555 | valid_accuracy: 0.65255 |  0:00:15s\n",
      "epoch 7  | loss: 0.78395 | train_accuracy: 0.64818 | valid_accuracy: 0.64041 |  0:00:17s\n",
      "epoch 8  | loss: 0.77845 | train_accuracy: 0.68703 | valid_accuracy: 0.68357 |  0:00:19s\n",
      "epoch 9  | loss: 0.76716 | train_accuracy: 0.68087 | valid_accuracy: 0.67979 |  0:00:20s\n",
      "epoch 10 | loss: 0.76165 | train_accuracy: 0.69982 | valid_accuracy: 0.69787 |  0:00:22s\n",
      "epoch 11 | loss: 0.75894 | train_accuracy: 0.71    | valid_accuracy: 0.70893 |  0:00:24s\n",
      "epoch 12 | loss: 0.75436 | train_accuracy: 0.70873 | valid_accuracy: 0.71136 |  0:00:26s\n",
      "epoch 13 | loss: 0.75282 | train_accuracy: 0.71201 | valid_accuracy: 0.7119  |  0:00:27s\n",
      "epoch 14 | loss: 0.7477  | train_accuracy: 0.71228 | valid_accuracy: 0.71271 |  0:00:29s\n",
      "epoch 15 | loss: 0.74465 | train_accuracy: 0.71609 | valid_accuracy: 0.71621 |  0:00:31s\n",
      "epoch 16 | loss: 0.7454  | train_accuracy: 0.71616 | valid_accuracy: 0.71621 |  0:00:33s\n",
      "epoch 17 | loss: 0.7465  | train_accuracy: 0.71643 | valid_accuracy: 0.71378 |  0:00:34s\n",
      "epoch 18 | loss: 0.74438 | train_accuracy: 0.71884 | valid_accuracy: 0.71675 |  0:00:36s\n",
      "epoch 19 | loss: 0.73969 | train_accuracy: 0.72051 | valid_accuracy: 0.72053 |  0:00:38s\n",
      "epoch 20 | loss: 0.73469 | train_accuracy: 0.71897 | valid_accuracy: 0.72053 |  0:00:40s\n",
      "epoch 21 | loss: 0.73687 | train_accuracy: 0.72018 | valid_accuracy: 0.71702 |  0:00:41s\n",
      "epoch 22 | loss: 0.73422 | train_accuracy: 0.72072 | valid_accuracy: 0.72134 |  0:00:43s\n",
      "epoch 23 | loss: 0.73111 | train_accuracy: 0.72118 | valid_accuracy: 0.72026 |  0:00:45s\n",
      "epoch 24 | loss: 0.72795 | train_accuracy: 0.72205 | valid_accuracy: 0.71945 |  0:00:46s\n",
      "epoch 25 | loss: 0.72732 | train_accuracy: 0.72487 | valid_accuracy: 0.72107 |  0:00:48s\n",
      "epoch 26 | loss: 0.72583 | train_accuracy: 0.72252 | valid_accuracy: 0.72242 |  0:00:50s\n",
      "epoch 27 | loss: 0.72656 | train_accuracy: 0.72594 | valid_accuracy: 0.71756 |  0:00:52s\n",
      "epoch 28 | loss: 0.72449 | train_accuracy: 0.72694 | valid_accuracy: 0.72107 |  0:00:53s\n",
      "epoch 29 | loss: 0.72157 | train_accuracy: 0.7254  | valid_accuracy: 0.72134 |  0:00:55s\n",
      "epoch 30 | loss: 0.71981 | train_accuracy: 0.72681 | valid_accuracy: 0.71891 |  0:00:57s\n",
      "epoch 31 | loss: 0.72049 | train_accuracy: 0.72802 | valid_accuracy: 0.72215 |  0:00:58s\n",
      "epoch 32 | loss: 0.71816 | train_accuracy: 0.73002 | valid_accuracy: 0.7181  |  0:01:00s\n",
      "epoch 33 | loss: 0.71709 | train_accuracy: 0.72808 | valid_accuracy: 0.71945 |  0:01:02s\n",
      "epoch 34 | loss: 0.71537 | train_accuracy: 0.72936 | valid_accuracy: 0.71702 |  0:01:03s\n",
      "epoch 35 | loss: 0.71199 | train_accuracy: 0.72902 | valid_accuracy: 0.71999 |  0:01:05s\n",
      "epoch 36 | loss: 0.71098 | train_accuracy: 0.72828 | valid_accuracy: 0.71891 |  0:01:07s\n",
      "\n",
      "Early stopping occurred at epoch 36 with best_epoch = 26 and best_valid_accuracy = 0.72242\n",
      "Best weights from best epoch are automatically used!\n"
     ]
    }
   ],
   "source": [
    "clf.fit(\n",
    "    X_train=X_train, y_train=y_train,\n",
    "    eval_set=[(X_train, y_train), (X_valid, y_valid)],\n",
    "    eval_name=['train', 'valid'],\n",
    "    #eval_metric=['auc'],\n",
    "    from_unsupervised=unsupervised_model\n",
    ")"
   ]
  },
  {
   "cell_type": "code",
   "execution_count": 10,
   "id": "ef0ecf26",
   "metadata": {
    "colab": {
     "base_uri": "https://localhost:8080/"
    },
    "id": "ef0ecf26",
    "outputId": "f7e92950-7729-4a62-c212-9bd46fd111dd"
   },
   "outputs": [
    {
     "name": "stdout",
     "output_type": "stream",
     "text": [
      "0.7558457498038262\n"
     ]
    }
   ],
   "source": [
    "from sklearn.metrics import roc_auc_score\n",
    "\n",
    "pred = clf.predict_proba(X_test)\n",
    "test_acc = roc_auc_score(y_test,pred,multi_class='ovr',average='weighted')\n",
    "print(test_acc)"
   ]
  },
  {
   "cell_type": "code",
   "execution_count": 11,
   "id": "79ff37a6",
   "metadata": {
    "colab": {
     "base_uri": "https://localhost:8080/",
     "height": 269
    },
    "id": "79ff37a6",
    "outputId": "311604f5-c292-421d-8be5-d98a4443ea5a"
   },
   "outputs": [
    {
     "data": {
      "image/png": "[encoded data removed]",
      "text/plain": [
       "<Figure size 1440x1440 with 3 Axes>"
      ]
     },
     "metadata": {
      "needs_background": "light"
     },
     "output_type": "display_data"
    }
   ],
   "source": [
    "explain_matrix, masks = clf.explain(X_test)\n",
    "\n",
    "fig, axs = plt.subplots(1, 3, figsize=(20,20))\n",
    "for i in range(3):\n",
    "    axs[i].imshow(masks[i][:50])\n",
    "    axs[i].set_title(f\"mask {i}\")"
   ]
  },
  {
   "cell_type": "code",
   "execution_count": 12,
   "id": "186abfb8",
   "metadata": {
    "id": "186abfb8"
   },
   "outputs": [],
   "source": [
    "cust = pd.read_csv('../Data/features3_te.csv')['cust']\n",
    "pred_df = pd.DataFrame(pred)\n",
    "pred_df['cust'] = cust\n",
    "pred_df = pred_df[['cust',0,1,2,3]]"
   ]
  },
  {
   "cell_type": "code",
   "execution_count": 13,
   "id": "f4a82054",
   "metadata": {
    "id": "f4a82054"
   },
   "outputs": [],
   "source": [
    "pred_df.to_csv('../3.로티로리_데이터 및 모델 세이브 파일/TabNet_pred_df.csv',index=False)"
   ]
  },
  {
   "cell_type": "code",
   "execution_count": 14,
   "id": "5f931b43",
   "metadata": {
    "colab": {
     "base_uri": "https://localhost:8080/"
    },
    "id": "5f931b43",
    "outputId": "1ae92c16-c457-429d-c10d-e6cce66adc04"
   },
   "outputs": [
    {
     "name": "stdout",
     "output_type": "stream",
     "text": [
      "Successfully saved model at /content/tabnet_model_test_1.zip\n"
     ]
    }
   ],
   "source": [
    "saving_path_name = \"../3.로티로리_데이터 및 모델 세이브 파일/tabnet_model_test_1.zip\"\n",
    "saved_filepath = clf.save_model(saving_path_name)"
   ]
  }
 ],
 "metadata": {
  "colab": {
   "name": "04_03_TabNet_Lab_TabNetClassifier_pretrainer.ipynb",
   "provenance": []
  },
  "kernelspec": {
   "display_name": "Python 3 (ipykernel)",
   "language": "python",
   "name": "python3"
  },
  "language_info": {
   "codemirror_mode": {
    "name": "ipython",
    "version": 3
   },
   "file_extension": ".py",
   "mimetype": "text/x-python",
   "name": "python",
   "nbconvert_exporter": "python",
   "pygments_lexer": "ipython3",
   "version": "3.9.12"
  }
 },
 "nbformat": 4,
 "nbformat_minor": 5
}
