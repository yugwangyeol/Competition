{
 "cells": [
  {
   "cell_type": "markdown",
   "metadata": {},
   "source": [
    "# Import"
   ]
  },
  {
   "cell_type": "code",
   "execution_count": 1,
   "metadata": {},
   "outputs": [],
   "source": [
    "import pandas as pd\n",
    "import re\n",
    "import numpy as np"
   ]
  },
  {
   "cell_type": "markdown",
   "metadata": {},
   "source": [
    "# Data Load"
   ]
  },
  {
   "cell_type": "code",
   "execution_count": 2,
   "metadata": {},
   "outputs": [],
   "source": [
    "weather_df = pd.read_csv('../3.로티로리_데이터 및 모델 세이브 파일/기상청 데이터 - 기온,강수량,습도.csv', encoding = 'CP949')\n",
    "atmoshphere_df =  pd.read_csv('../3.로티로리_데이터 및 모델 세이브 파일/기상청 데이터-미세먼지.csv', encoding = 'CP949')"
   ]
  },
  {
   "cell_type": "markdown",
   "metadata": {},
   "source": [
    "# Data Preprocess"
   ]
  },
  {
   "cell_type": "markdown",
   "metadata": {},
   "source": [
    "## Weather df"
   ]
  },
  {
   "cell_type": "code",
   "execution_count": 3,
   "metadata": {
    "scrolled": true
   },
   "outputs": [],
   "source": [
    "# 날짜 맞추기\n",
    "weather_df['일시'] = weather_df['일시'].apply(lambda x: re.sub(r'[^\\w\\s]', '', x))"
   ]
  },
  {
   "cell_type": "code",
   "execution_count": 4,
   "metadata": {},
   "outputs": [],
   "source": [
    "# 결측치 보간\n",
    "weather_df.loc[4659, '평균기온(°C)'] = np.round(weather_df.iloc[4658:4661, 3].sum() / 2, 2)\n",
    "weather_df.loc[5584, '평균기온(°C)'] = np.round(weather_df.iloc[5583:5586, 3].sum() / 2, 2)\n",
    "weather_df.loc[5711, '평균기온(°C)'] = np.round(weather_df.iloc[5710:5713, 3].sum() / 2, 2)"
   ]
  },
  {
   "cell_type": "code",
   "execution_count": 5,
   "metadata": {},
   "outputs": [],
   "source": [
    "# 결측치 보간\n",
    "weather_df.loc[1159, '평균 상대습도(%)'] = np.round(weather_df.iloc[1158:1161, 5].sum() / 2, 2)\n",
    "weather_df.loc[4784, '평균 상대습도(%)'] = 59.0\n",
    "weather_df.loc[4785, '평균 상대습도(%)'] = 59.0\n",
    "weather_df.loc[4659, '평균 상대습도(%)'] = np.round(weather_df.iloc[4658:4661, 5].sum() / 2, 2)\n",
    "weather_df.loc[5584, '평균 상대습도(%)'] = np.round(weather_df.iloc[5583:5586, 5].sum() / 2, 2)\n",
    "weather_df.loc[5711, '평균 상대습도(%)'] = np.round(weather_df.iloc[5710:5713, 5].sum() / 2, 2)"
   ]
  },
  {
   "cell_type": "code",
   "execution_count": 6,
   "metadata": {},
   "outputs": [],
   "source": [
    "# 강수량 결측치 처리\n",
    "weather_df.fillna(0, inplace = True)"
   ]
  },
  {
   "cell_type": "code",
   "execution_count": 7,
   "metadata": {},
   "outputs": [],
   "source": [
    "def change_name(x):\n",
    "    if x == '강릉':\n",
    "        return 'Z01'\n",
    "    elif x == '서울':\n",
    "        return 'Z17'\n",
    "    elif x == '인천':\n",
    "        return 'Z04'\n",
    "    elif x == '수원':\n",
    "        return 'Z10'\n",
    "    elif x == '대전':\n",
    "        return 'Z15'\n",
    "    elif x == '안동':\n",
    "        return 'Z12'\n",
    "    elif x == '대구':\n",
    "        return 'Z06'\n",
    "    elif x == '전주':\n",
    "        return 'Z14'\n",
    "    elif x == '울산':\n",
    "        return 'Z03'\n",
    "    elif x == '광주':\n",
    "        return 'Z13'\n",
    "    elif x == '부산':\n",
    "        return 'Z16'\n",
    "    elif x == '제주':\n",
    "        return 'Z07'\n",
    "    elif x == '제천':\n",
    "        return 'Z09'\n",
    "    elif x == '천안':\n",
    "        return 'Z08'\n",
    "    elif x == '세종':\n",
    "        return 'Z02'\n",
    "    elif x == '영광군':\n",
    "        return 'Z05'\n",
    "    elif x == '밀양':\n",
    "        return 'Z11'"
   ]
  },
  {
   "cell_type": "code",
   "execution_count": 8,
   "metadata": {},
   "outputs": [],
   "source": [
    "weather_df['지점명'] = weather_df['지점명'].apply(change_name)"
   ]
  },
  {
   "cell_type": "code",
   "execution_count": 9,
   "metadata": {},
   "outputs": [],
   "source": [
    "weather_df = weather_df.iloc[:, 1:].rename(columns={'지점명': 'region',\n",
    "                                      '일시': 'date',\n",
    "                                      '평균기온(°C)': 'temperature',\n",
    "                                      '일강수량(mm)': 'rainfall',\n",
    "                                      '평균 상대습도(%)': 'huminity'})"
   ]
  },
  {
   "cell_type": "markdown",
   "metadata": {},
   "source": [
    "## Atmos df"
   ]
  },
  {
   "cell_type": "code",
   "execution_count": 10,
   "metadata": {},
   "outputs": [],
   "source": [
    "atmoshphere_df['일시'] = atmoshphere_df['일시'].apply(lambda x: re.sub(r'[^\\w\\s]', '', x))"
   ]
  },
  {
   "cell_type": "code",
   "execution_count": 11,
   "metadata": {},
   "outputs": [],
   "source": [
    "def change_reg(x):\n",
    "    if x == '서울':\n",
    "        return '중부'\n",
    "    elif x == '울산':\n",
    "        return '남부'\n",
    "    elif x == '고산':\n",
    "        return '제주'"
   ]
  },
  {
   "cell_type": "code",
   "execution_count": 12,
   "metadata": {},
   "outputs": [],
   "source": [
    "atmoshphere_df['지점명'] = atmoshphere_df['지점명'].apply(change_reg)"
   ]
  },
  {
   "cell_type": "code",
   "execution_count": 13,
   "metadata": {},
   "outputs": [],
   "source": [
    "atmoshphere_df = atmoshphere_df.iloc[:, 1:].rename(columns = {'지점명': 'region_at',\n",
    "                                                             '일시': 'date',\n",
    "                                                             '일 미세먼지 농도(㎍/㎥)': 'atmosphere'})"
   ]
  },
  {
   "cell_type": "markdown",
   "metadata": {},
   "source": [
    "# Deployment"
   ]
  },
  {
   "cell_type": "code",
   "execution_count": 14,
   "metadata": {},
   "outputs": [],
   "source": [
    "weather_df.to_csv('../3.로티로리_데이터 및 모델 세이브 파일/Weather_df.csv'  ,header=True )\n",
    "atmoshphere_df.to_csv('../3.로티로리_데이터 및 모델 세이브 파일/Atmoshphere_df.csv', header=True)"
   ]
  }
 ],
 "metadata": {
  "kernelspec": {
   "display_name": "Python 3 (ipykernel)",
   "language": "python",
   "name": "python3"
  },
  "language_info": {
   "codemirror_mode": {
    "name": "ipython",
    "version": 3
   },
   "file_extension": ".py",
   "mimetype": "text/x-python",
   "name": "python",
   "nbconvert_exporter": "python",
   "pygments_lexer": "ipython3",
   "version": "3.9.12"
  }
 },
 "nbformat": 4,
 "nbformat_minor": 4
}
